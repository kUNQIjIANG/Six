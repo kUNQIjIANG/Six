{
 "cells": [
  {
   "cell_type": "markdown",
   "metadata": {
    "colab_type": "text",
    "id": "pYs6LMEbNqoQ"
   },
   "source": [
    "# RL homework 3\n",
    "\n",
    "-------------------------------\n",
    "\n",
    "\n",
    "**Name:** Kunqi Jiang\n",
    "\n",
    "**SN:** 17057761\n",
    "\n",
    "-----------------------------------\n",
    "\n",
    "\n",
    "**Start date:** *7th March 2018*\n",
    "\n",
    "**Due date:** *21st March 2018, 11:55 pm*\n",
    "\n",
    "------------------------------------\n",
    "\n",
    "## How to Submit\n",
    "\n",
    "When you have completed the exercises and everything has finsihed running, click on 'File' in the menu-bar and then 'Download .ipynb'. This file must be submitted to Moodle named as **studentnumber_RL_hw3.ipynb** before the deadline above.\n",
    "\n",
    "Also send a **sharable link** to the notebook at the following email: ucl.coursework.submit@gmail.com. You can also make it sharable via link to everyone, up to you.\n",
    "\n",
    "Please compile all results and all answers to the understanding questions into a PDF. Name convention: **studentnumber_RL_hw3.pdf**. Do not include any of the code (we will use the notebook for that). \n",
    "\n",
    "**Page limit: 10 pg **\n"
   ]
  },
  {
   "cell_type": "markdown",
   "metadata": {
    "colab_type": "text",
    "id": "9v_SYckYfv5G"
   },
   "source": [
    "## Context\n",
    "\n",
    "In this assignment, we will investigate the properties of 3 distinct reinforcement learning algorithms:\n",
    "\n",
    "* Online Q-learning\n",
    "* Experience Replay\n",
    "* Dyna-Q\n",
    "\n",
    "We will consider two different dimensions:\n",
    "* Tabular vs Function Approximation\n",
    "* Stationary vs Non-Stationary environments\n",
    "\n",
    "## Background reading\n",
    "\n",
    "* Sutton and Barto (2018), Chapters 8"
   ]
  },
  {
   "cell_type": "markdown",
   "metadata": {
    "colab_type": "text",
    "id": "rNuohp44N00i"
   },
   "source": [
    "# The Assignment\n",
    "\n",
    "### Objectives\n",
    "\n",
    "You will use Python to implement several reinforcement learning algorithms **[50 pts]**.\n",
    "\n",
    "You will then run these algorithms on a few problems, to understand their properties.\n",
    "\n",
    "Finally you will answer a few question about the performance of these algorithms in the various problems **[50pts]**."
   ]
  },
  {
   "cell_type": "markdown",
   "metadata": {
    "colab_type": "text",
    "id": "ztQEQvnKh2t6"
   },
   "source": [
    "# Setup"
   ]
  },
  {
   "cell_type": "code",
   "execution_count": 0,
   "metadata": {
    "colab": {
     "autoexec": {
      "startup": false,
      "wait_interval": 0
     }
    },
    "colab_type": "code",
    "id": "Ps5OnkPmDbMX"
   },
   "outputs": [],
   "source": [
    "import matplotlib.pyplot as plt\n",
    "import numpy as np\n",
    "from collections import namedtuple\n",
    "\n",
    "np.set_printoptions(precision=3, suppress=1)\n",
    "plt.style.use('seaborn-notebook')"
   ]
  },
  {
   "cell_type": "markdown",
   "metadata": {
    "colab_type": "text",
    "id": "ALrRR76eAd6u"
   },
   "source": [
    "# Grid worlds"
   ]
  },
  {
   "cell_type": "markdown",
   "metadata": {
    "colab_type": "text",
    "id": "uMC6nODK1HAV"
   },
   "source": [
    "**Tabular Grid-World**\n",
    "\n",
    "Simple tabular grid world.\n",
    "\n",
    "You can visualize the grid worlds we will train our agents on, by running the cells below.\n",
    "`S` indicates the start state and `G` indicates the goal.  The agent has four possible actions: up, right, down, and left.  Rewards are: `-5` for bumping into a wall, `+10` for reaching the goal, and `0` otherwise.  The episode ends when the agent reaches the goal, and otherwise continues.  The discount, on continuing steps, is $\\gamma = 0.9$.\n",
    "\n",
    "We will use three distinct GridWorlds:\n",
    "* `Grid` tabular grid world withh a goal in the top right of the grid\n",
    "* `AltGrid` tabular grid world withh a goal in the bottom left of the grid\n",
    "* `FeatureGrid` a grid world with a non tabular representation of states, the features are such to allow some degree of state aliasing"
   ]
  },
  {
   "cell_type": "code",
   "execution_count": 0,
   "metadata": {
    "cellView": "code",
    "colab": {
     "autoexec": {
      "startup": false,
      "wait_interval": 0
     }
    },
    "colab_type": "code",
    "id": "YP97bVN3NuG8"
   },
   "outputs": [],
   "source": [
    "#@title Grid\n",
    "class Grid(object):\n",
    "\n",
    "  def __init__(self, discount=0.9):\n",
    "    # -1: wall\n",
    "    # 0: empty, episode continues\n",
    "    # other: number indicates reward, episode will terminate\n",
    "    self._layout = np.array([\n",
    "      [-1, -1, -1, -1, -1, -1, -1, -1, -1, -1],\n",
    "      [-1,  0,  0,  0,  0,  0,  0,  0,  0, -1],\n",
    "      [-1,  0,  0,  0, -1, -1,  0,  0, 10, -1],\n",
    "      [-1,  0,  0,  0, -1, -1,  0,  0,  0, -1],\n",
    "      [-1,  0,  0,  0, -1, -1,  0,  0,  0, -1],\n",
    "      [-1,  0,  0,  0,  0,  0,  0,  0,  0, -1],\n",
    "      [-1,  0,  0,  0,  0,  0,  0,  0,  0, -1],\n",
    "      [-1,  0,  0,  0,  0,  0,  0,  0,  0, -1],\n",
    "      [-1, -1, -1, -1, -1, -1, -1, -1, -1, -1]\n",
    "    ])\n",
    "    self._start_state = (2, 2)\n",
    "    self._goal_state = (8, 2)\n",
    "    self._state = self._start_state\n",
    "    self._number_of_states = np.prod(np.shape(self._layout))\n",
    "    self._discount = discount\n",
    "\n",
    "  @property\n",
    "  def number_of_states(self):\n",
    "      return self._number_of_states\n",
    "    \n",
    "  def plot_grid(self):\n",
    "    plt.figure(figsize=(3, 3))\n",
    "    plt.imshow(self._layout > -1, interpolation=\"nearest\",cmap=\"pink\")     \n",
    "    ax = plt.gca()\n",
    "    ax.grid(0)\n",
    "    plt.xticks([])\n",
    "    plt.yticks([])\n",
    "    plt.title(\"The grid\")\n",
    "    plt.text(\n",
    "        self._start_state[0], self._start_state[1], \n",
    "        r\"$\\mathbf{S}$\", ha='center', va='center')\n",
    "    plt.text(\n",
    "        self._goal_state[0], self._goal_state[1], \n",
    "        r\"$\\mathbf{G}$\", ha='center', va='center')\n",
    "    h, w = self._layout.shape\n",
    "    for y in range(h-1):\n",
    "      plt.plot([-0.5, w-0.5], [y+0.5, y+0.5], '-k', lw=2)\n",
    "    for x in range(w-1):\n",
    "      plt.plot([x+0.5, x+0.5], [-0.5, h-0.5], '-k', lw=2)\n",
    "\n",
    "  \n",
    "  def get_obs(self):\n",
    "    y, x = self._state\n",
    "    return y*self._layout.shape[1] + x\n",
    "  \n",
    "  def int_to_state(self, int_obs):\n",
    "    x = int_obs % self._layout.shape[1]\n",
    "    y = int_obs // self._layout.shape[1]\n",
    "    return y, x\n",
    "\n",
    "  def step(self, action):\n",
    "    y, x = self._state\n",
    "\n",
    "    if action == 0:  # up\n",
    "      new_state = (y - 1, x)\n",
    "    elif action == 1:  # right\n",
    "      new_state = (y, x + 1)\n",
    "    elif action == 2:  # down\n",
    "      new_state = (y + 1, x)\n",
    "    elif action == 3:  # left\n",
    "      new_state = (y, x - 1)\n",
    "    else:\n",
    "      raise ValueError(\"Invalid action: {} is not 0, 1, 2, or 3.\".format(action))\n",
    "\n",
    "    new_y, new_x = new_state\n",
    "    if self._layout[new_y, new_x] == -1:  # wall\n",
    "      reward = -5.\n",
    "      discount = self._discount\n",
    "      new_state = (y, x)\n",
    "    elif self._layout[new_y, new_x] == 0:  # empty cell\n",
    "      reward = 0.\n",
    "      discount = self._discount\n",
    "    else:  # a goal\n",
    "      reward = self._layout[new_y, new_x]\n",
    "      discount = 0.\n",
    "      new_state = self._start_state\n",
    "    \n",
    "    self._state = new_state\n",
    "    return reward, discount, self.get_obs()"
   ]
  },
  {
   "cell_type": "code",
   "execution_count": 0,
   "metadata": {
    "cellView": "code",
    "colab": {
     "autoexec": {
      "startup": false,
      "wait_interval": 0
     }
    },
    "colab_type": "code",
    "id": "UXyPvOq-S2OT"
   },
   "outputs": [],
   "source": [
    "#@title AltGrid\n",
    "class AltGrid(Grid):\n",
    "  \n",
    "    def __init__(self, discount=0.9):\n",
    "      # -1: wall\n",
    "      # 0: empty, episode continues\n",
    "      # other: number indicates reward, episode will terminate\n",
    "      self._layout = np.array([\n",
    "        [-1, -1, -1, -1, -1, -1, -1, -1, -1, -1],\n",
    "        [-1,  0,  0,  0,  0,  0,  0,  0,  0, -1],\n",
    "        [-1,  0,  0,  0, -1, -1,  0,  0,  0, -1],\n",
    "        [-1,  0,  0,  0, -1, -1,  0,  0,  0, -1],\n",
    "        [-1,  0,  0,  0, -1, -1,  0,  0,  0, -1],\n",
    "        [-1,  0,  0,  0,  0,  0,  0,  0,  0, -1],\n",
    "        [-1,  0,  0,  0,  0,  0,  0,  0,  0, -1],\n",
    "        [-1,  0, 10,  0,  0,  0,  0,  0,  0, -1],\n",
    "        [-1, -1, -1, -1, -1, -1, -1, -1, -1, -1]\n",
    "      ])\n",
    "      self._start_state = (2, 2)\n",
    "      self._goal_state = (2, 7)\n",
    "      self._state = self._start_state\n",
    "      self._number_of_states = np.prod(np.shape(self._layout))\n",
    "      self._discount = discount"
   ]
  },
  {
   "cell_type": "code",
   "execution_count": 0,
   "metadata": {
    "cellView": "code",
    "colab": {
     "autoexec": {
      "startup": false,
      "wait_interval": 0
     }
    },
    "colab_type": "code",
    "id": "a1OFB5Mv1gC_"
   },
   "outputs": [],
   "source": [
    "#@title FeatureGrid\n",
    "class FeatureGrid(Grid):\n",
    "  \n",
    "  def get_obs(self):\n",
    "    return self.state_to_features(self._state)\n",
    "  \n",
    "  \n",
    "  \n",
    "  def state_to_features(self, state):\n",
    "    y, x = state\n",
    "    x /= float(self._layout.shape[1] - 1)\n",
    "    y /= float(self._layout.shape[0] - 1)\n",
    "    markers = np.arange(0.1, 1.0, 0.1)\n",
    "    features = np.array([np.exp(-40*((x - m)**2+(y - n)**2))\n",
    "                         for m in markers\n",
    "                         for n in markers] + [1.])\n",
    "    return np.array(features).reshape([len(features),1]) / np.sum(features**2)\n",
    "  \n",
    "  def int_to_features(self, int_state):\n",
    "    return self.state_to_features(self.int_to_state(int_state))\n",
    "  \n",
    "  @property\n",
    "  def number_of_features(self):\n",
    "      return len(self.get_obs())"
   ]
  },
  {
   "cell_type": "code",
   "execution_count": 6,
   "metadata": {
    "colab": {
     "autoexec": {
      "startup": false,
      "wait_interval": 0
     },
     "base_uri": "https://localhost:8080/",
     "height": 690,
     "output_extras": [
      {
       "item_id": 1
      },
      {
       "item_id": 2
      },
      {
       "item_id": 3
      }
     ]
    },
    "colab_type": "code",
    "executionInfo": {
     "elapsed": 5192,
     "status": "ok",
     "timestamp": 1521566471203,
     "user": {
      "displayName": "Jiang kunqi",
      "photoUrl": "https://lh3.googleusercontent.com/a/default-user=s128",
      "userId": "115764409563987667676"
     },
     "user_tz": 0
    },
    "id": "ZVUhh2qqwep_",
    "outputId": "ce0b16d3-3ddd-4f5a-f7cf-8fbbaa14fb17"
   },
   "outputs": [
    {
     "data": {
      "image/png": "[encoded data removed]",
      "text/plain": [
       "<matplotlib.figure.Figure at 0x7fd5442f50b8>"
      ]
     },
     "metadata": {
      "tags": []
     },
     "output_type": "display_data"
    },
    {
     "data": {
      "image/png": "[encoded data removed]",
      "text/plain": [
       "<matplotlib.figure.Figure at 0x7fd5442f5128>"
      ]
     },
     "metadata": {
      "tags": []
     },
     "output_type": "display_data"
    },
    {
     "data": {
      "image/png": "[encoded data removed]",
      "text/plain": [
       "<matplotlib.figure.Figure at 0x7fd544208400>"
      ]
     },
     "metadata": {
      "tags": []
     },
     "output_type": "display_data"
    }
   ],
   "source": [
    "\n",
    "# Instantiate the two tabular environments\n",
    "grid = Grid()\n",
    "alt_grid = AltGrid()\n",
    "\n",
    "# Plot tabular environments\n",
    "grid.plot_grid()\n",
    "alt_grid.plot_grid()\n",
    "\n",
    "# Instantiate the non tabular version of the environment.\n",
    "feat_grid = FeatureGrid()\n",
    "\n",
    "# Plot the features of each state\n",
    "shape = feat_grid._layout.shape\n",
    "f, axes = plt.subplots(shape[0], shape[1])\n",
    "\n",
    "for state_idx, ax in enumerate(axes.flatten()):\n",
    "  ax.imshow(np.reshape((feat_grid.int_to_features(state_idx)[:-1]),(9,9)), interpolation='nearest',cmap=\"pink\")\n",
    "  ax.set_xticks([])\n",
    "  ax.set_yticks([])"
   ]
  },
  {
   "cell_type": "markdown",
   "metadata": {
    "colab_type": "text",
    "id": "cOu9RZY3AkF1"
   },
   "source": [
    "# Helper functions"
   ]
  },
  {
   "cell_type": "code",
   "execution_count": 0,
   "metadata": {
    "colab": {
     "autoexec": {
      "startup": false,
      "wait_interval": 0
     }
    },
    "colab_type": "code",
    "id": "6EttQGJ1n5Zn"
   },
   "outputs": [],
   "source": [
    "def run_experiment(env, agent, number_of_steps):\n",
    "    mean_reward = 0.\n",
    "    try:\n",
    "      action = agent.initial_action()\n",
    "    except AttributeError:\n",
    "      action = 0\n",
    "    for i in range(number_of_steps):\n",
    "      reward, discount, next_state = env.step(action)\n",
    "      action = agent.step(reward, discount, next_state)\n",
    "      mean_reward += (reward - mean_reward)/(i + 1.)\n",
    "\n",
    "    return mean_reward\n",
    "\n",
    "map_from_action_to_subplot = lambda a: (2, 6, 8, 4)[a]\n",
    "map_from_action_to_name = lambda a: (\"up\", \"right\", \"down\", \"left\")[a]\n",
    "\n",
    "def plot_values(values, colormap='pink', vmin=-1, vmax=10):\n",
    "  plt.imshow(values, interpolation=\"nearest\", cmap=colormap, vmin=vmin, vmax=vmax)\n",
    "  plt.yticks([])\n",
    "  plt.xticks([])\n",
    "  plt.colorbar(ticks=[vmin, vmax])\n",
    "\n",
    "def plot_state_value(action_values):\n",
    "  q = action_values\n",
    "  fig = plt.figure(figsize=(4, 4))\n",
    "  vmin = np.min(action_values)\n",
    "  vmax = np.max(action_values)\n",
    "  v = 0.9 * np.max(q, axis=-1) + 0.1 * np.mean(q, axis=-1)\n",
    "  plot_values(v, colormap='summer', vmin=vmin, vmax=vmax)\n",
    "  plt.title(\"$v(s)$\")\n",
    "\n",
    "def plot_action_values(action_values):\n",
    "  q = action_values\n",
    "  fig = plt.figure(figsize=(8, 8))\n",
    "  fig.subplots_adjust(wspace=0.3, hspace=0.3)\n",
    "  vmin = np.min(action_values)\n",
    "  vmax = np.max(action_values)\n",
    "  dif = vmax - vmin\n",
    "  for a in [0, 1, 2, 3]:\n",
    "    plt.subplot(3, 3, map_from_action_to_subplot(a))\n",
    "    \n",
    "    plot_values(q[..., a], vmin=vmin - 0.05*dif, vmax=vmax + 0.05*dif)\n",
    "    action_name = map_from_action_to_name(a)\n",
    "    plt.title(r\"$q(s, \\mathrm{\" + action_name + r\"})$\")\n",
    "    \n",
    "  plt.subplot(3, 3, 5)\n",
    "  v = 0.9 * np.max(q, axis=-1) + 0.1 * np.mean(q, axis=-1)\n",
    "  plot_values(v, colormap='summer', vmin=vmin, vmax=vmax)\n",
    "  plt.title(\"$v(s)$\")\n",
    "  \n",
    "def random_policy(q):\n",
    "  return np.random.randint(4)\n",
    "\n",
    "def plot_greedy_policy(grid, q):\n",
    "  action_names = [r\"$\\uparrow$\",r\"$\\rightarrow$\", r\"$\\downarrow$\", r\"$\\leftarrow$\"]\n",
    "  greedy_actions = np.argmax(q, axis=2)\n",
    "  grid.plot_grid()\n",
    "  plt.hold('on')\n",
    "  for i in range(9):\n",
    "    for j in range(10):\n",
    "      action_name = action_names[greedy_actions[i,j]]\n",
    "      plt.text(j, i, action_name, ha='center', va='center')"
   ]
  },
  {
   "cell_type": "markdown",
   "metadata": {
    "colab_type": "text",
    "id": "fzpb_dGVjT0O"
   },
   "source": [
    "# Part 1: Implement Agents\n",
    "\n",
    "Each agent, should implement a step function:\n",
    "\n",
    "### `__init__(self, number_of_actions, number_of_states, initial_observation)`:\n",
    "The constructor will provide the agent the number of actions, number of states, and the initial observation. You can get the initial observation by first instatiating an environment, using `grid = Grid()`, and then calling `grid.get_obs()`.\n",
    "\n",
    "All agents should be in pure Python - so you cannot use TensorFlow to, e.g., compute gradients.  Using `numpy` is fine.\n",
    "\n",
    "### `step(self, reward, discount, next_observation, ...)`:\n",
    "where `...` indicates there could be other inputs (discussed below).  The step should update the internal values, and return a new action to take.\n",
    "\n",
    "When the discount is zero ($\\text{discount} = \\gamma = 0$), then the `next_observation` will be the initial observation of the next episode.  One shouldn't bootstrap on the value of this state, which can simply be guaranteed when using \"$\\gamma \\cdot v(\\text{next_observation})$\" (for whatever definition of $v$ is appropriate) in the update, because $\\gamma = 0$.  So, the end of an episode can be seamlessly handled with the same step function.\n",
    "\n",
    "### `q_values()`:\n",
    "\n",
    "Tabular agents implement a function `q_values()` returning a matrix of Q values of shape: (`number_of_states`, `number_of_actions`)\n",
    "\n",
    "### `q_values(state)`:\n",
    "\n",
    "Agents with Linear function approximation implement a method `q_values(state)` returning an array of Q values of shape: (`number_of_actions`)\n",
    "\n",
    "\n",
    "### A note on the initial action\n",
    "Normally, you would also have to implement a method that gives the initial action, based on the initial state.  As in the previous assignment you can use the action `0` (which corresponds to `up`) as initial action, so that otherwise we do not have to worry about this.  Note that this initial action is only executed once, and the beginning of the first episode---not at the beginning of each episode.\n",
    "\n",
    "Q-learning and it's variants needs to remember the last action in order to update its value when they see the next state.  In the `__init__`, make sure you set the initial action to zero, e.g.,\n",
    "```\n",
    "def __init__(...):\n",
    "  (...)\n",
    "  self._action = 0\n",
    "  (...)\n",
    "```\n"
   ]
  },
  {
   "cell_type": "markdown",
   "metadata": {
    "colab_type": "text",
    "id": "B8oKd0oyvNcH"
   },
   "source": [
    "\n",
    "# Part 1: Implement Agents\n",
    "\n",
    "We are going to implement 5 agent:\n",
    "- Online Tabular Q-learning\n",
    "- Tabular Experience Replay\n",
    "- Tabular Dyna-Q (with a Tabular model)\n",
    "- Experience Replay with linear function approximation\n",
    "- Dyna-Q with linear function approximation (with a linear model)\n",
    "\n"
   ]
  },
  {
   "cell_type": "markdown",
   "metadata": {
    "colab_type": "text",
    "id": "pIgXk6LblHgV"
   },
   "source": [
    "## 1.1 Tabular Model\n",
    "**[5 pts]** Implement a trainable tabular Model of the environment.\n",
    "\n",
    "The Model should implement: \n",
    "* a *next_state* method, taking a state and action and returning the next state in the environment.\n",
    "* a *reward* method, taking a state and action and returning the immediate reward associated to execution that action in that state.\n",
    "* a *discount* method, taking a state and action and returning the discount associated to execution that action in that state.\n",
    "* a *transition* method, taking a state and an action and returning both the next state and the reward associated to that transition.\n",
    "* a *update* method, taking a full transition *(state, action, reward, next_state)* and updating the model (in its reward, discount and next_state component)\n",
    "\n",
    "Given that the environment is deterministic and tabular the model will basically reduce to a simple lookup table."
   ]
  },
  {
   "cell_type": "code",
   "execution_count": 0,
   "metadata": {
    "colab": {
     "autoexec": {
      "startup": false,
      "wait_interval": 0
     }
    },
    "colab_type": "code",
    "id": "13zx3tTrll1g"
   },
   "outputs": [],
   "source": [
    "class TabularModel(object):\n",
    "\n",
    "  def __init__(self, number_of_states, number_of_actions):\n",
    "    self.reward_table = np.zeros([number_of_states, number_of_actions])\n",
    "    self.next_state_table = np.zeros([number_of_states, number_of_actions])\n",
    "    self.discount_table = np.zeros([number_of_states, number_of_actions])    \n",
    "\n",
    "  def next_state(self, state, action):\n",
    "    return self.next_state_table[state,action]\n",
    "  \n",
    "  def reward(self, state, action):\n",
    "    \n",
    "    return self.reward_table[state,action]\n",
    "    \n",
    "  def discount(self, state, action):\n",
    "    \n",
    "    return self.discount_table[state,action]\n",
    "  \n",
    "  def transition(self, state, action):\n",
    "    return (\n",
    "        self.reward(state, action), \n",
    "        self.discount(state, action),\n",
    "        self.next_state(state, action))\n",
    "  \n",
    "  def update(self, state, action, reward, discount, next_state):\n",
    "    self.next_state_table[state,action] = next_state\n",
    "    self.reward_table[state,action] = reward\n",
    "    self.discount_table[state,action] = discount"
   ]
  },
  {
   "cell_type": "markdown",
   "metadata": {
    "colab_type": "text",
    "id": "rPBcz1riy_fD"
   },
   "source": [
    "## 1.2 Linear Model\n",
    "\n",
    "**[5 pts]** Implement a trainable linear model of the environment.\n",
    "\n",
    "The Model should implement: \n",
    "* a *next_state* method, taking a state and action and returning the predicted next state in the environment.\n",
    "* a *reward* method, taking a state and action and returning the predicted immediate reward associated to execution that action in that state.\n",
    "* a *discount* method, taking a state and action and returning the predicted discount associated to execution that action in that state.\n",
    "* a *transition* method, taking a state and an action and returning both the next state and the reward associated to that transition.\n",
    "* a *update* method, taking a full transition *(state, action, reward, next_state)* and updating the model (in its reward, discount and next_state component)\n",
    "\n",
    "For each selected action, the predicted reward, discount and next state will all be a linear function of the state.\n",
    "* $\\text{s'} = T_a s$\n",
    "* $\\text{r'} = R_a s$\n",
    "* $\\text{g'} = G_a s$\n",
    "\n",
    "Where $T_a$ is a matrix of shape $(\\text{number_of_features}, \\text{number_of_features})$, $R_a$ and $G_a$are vectors of shape $(\\text{number_of_features},)$\n",
    "\n",
    "The parameters of all these linear transformations must be trained by gradient descent. Write down the update to the parameters of the models and implement the update in the model below.\n",
    "\n"
   ]
  },
  {
   "cell_type": "code",
   "execution_count": 0,
   "metadata": {
    "colab": {
     "autoexec": {
      "startup": false,
      "wait_interval": 0
     }
    },
    "colab_type": "code",
    "id": "226SA-xjlyDe"
   },
   "outputs": [],
   "source": [
    "class LinearModel(object):\n",
    "\n",
    "  def __init__(self, number_of_features, number_of_actions):\n",
    "    self.state_weight = np.random.rand(number_of_actions,number_of_features, number_of_features)\n",
    "    self.reward_weight = np.random.rand(number_of_actions, 1,number_of_features)\n",
    "    self.discount_weight = np.random.rand(number_of_actions, 1,number_of_features)\n",
    "    \n",
    "\n",
    "  def next_state(self, s, a):\n",
    "    return self.state_weight[a] @ s\n",
    "  \n",
    "  def reward(self, s, a):\n",
    "    return self.reward_weight[a] @ s\n",
    "\n",
    "  def discount(self, s, a):\n",
    "    return self.discount_weight[a] @ s\n",
    "\n",
    "  def transition(self, state, action):\n",
    "    return (\n",
    "        self.reward(state, action),\n",
    "        self.discount(state, action),\n",
    "        self.next_state(state, action))\n",
    "\n",
    "  def update(self, state, action, reward, discount, next_state, step_size=0.1):\n",
    "\n",
    "    state_error = next_state - self.next_state(state, action)\n",
    "    discount_error =  discount - self.discount(state, action)\n",
    "    reward_error = reward - self.reward(state, action)\n",
    "    print('state',state_error)\n",
    "    print('discount_error', discount_error)\n",
    "    print(\"reward_error\", reward_error)\n",
    "    #print(\"state\", (step_size * state_error @ state.T).shape)\n",
    "    #print(\"discount\", (step_size * reward_error @ state.T).shape)\n",
    "    #print(\"reward\", (step_size * discount_error @ state.T).shape)\n",
    "    self.state_weight[action] += step_size * state_error * state.T\n",
    "    self.reward_weight[action] += step_size * reward_error * state.T\n",
    "    self.discount_weight[action] += step_size * discount_error * state.T"
   ]
  },
  {
   "cell_type": "markdown",
   "metadata": {
    "colab_type": "text",
    "id": "omzJxb5ds0Iq"
   },
   "source": [
    "## 1.3 Experience Replay\n",
    "\n",
    "**[10 pts]** Implement an agent that uses **Experience Replay** to learn action values, at each step:\n",
    "* select actions randomly\n",
    "* accumulate all observed transitions *(s, a, r, s')* in the environment in a *replay buffer*,\n",
    "* apply an online Q-learning \n",
    "* apply multiple Q-learning updates based on transitions sampled (uniformly) from the *replay buffer* (in addition to the online updates).\n",
    "\n",
    "**Initialize** $Q(s, a)$ and $\\text{Model}(s, a)$ for all s ∈ S and a ∈ A(s)\n",
    "\n",
    "**Loop forever**:\n",
    "\n",
    "1. $S \\gets{}$current (nonterminal) state\n",
    " \n",
    "2. $A \\gets{} \\text{random_action}(S)$\n",
    " \n",
    "3. Take action $A$; observe resultant reward $R$, discount $\\gamma$, and state, $S'$\n",
    "\n",
    "4. $Q(S, A) \\gets Q(S, A) + \\alpha (R + \\gamma \\max_a Q(S', a) − Q(S, A))$\n",
    "\n",
    "5. $\\text{ReplayBuffer}.\\text{append_transition}(S, A, R, \\gamma, S')$\n",
    "\n",
    "6. Loop repeat n times:\n",
    "\n",
    "  1. $S, A, R, \\gamma, S' \\gets \\text{ReplayBuffer}.\\text{sample_transition}()$\n",
    "  \n",
    "  4. $Q(S, A) \\gets Q(S, A) + \\alpha (R + \\gamma \\max_a Q(S', a) − Q(S, A))$"
   ]
  },
  {
   "cell_type": "code",
   "execution_count": 0,
   "metadata": {
    "colab": {
     "autoexec": {
      "startup": false,
      "wait_interval": 0
     }
    },
    "colab_type": "code",
    "id": "TB9e_reb2pJX"
   },
   "outputs": [],
   "source": [
    " class ExperienceQ(object):\n",
    "\n",
    "  def __init__(\n",
    "      self, number_of_states, number_of_actions, initial_state, \n",
    "      behaviour_policy, num_offline_updates=0, step_size=0.1):\n",
    "    \n",
    "    self.q_values = np.zeros((number_of_states, number_of_actions))\n",
    "    self.state = initial_state\n",
    "    self.step_size = step_size\n",
    "    self.action = 0\n",
    "    self.replayBuffer = []\n",
    "    self.plan_step = num_offline_updates\n",
    "    self.behaviour_policy = behaviour_policy\n",
    "    \n",
    "  @property\n",
    "  def q_value(self):\n",
    "    return self.q_values\n",
    "\n",
    "  def step(self, reward, discount, next_state):\n",
    "    self.replayBuffer.append((self.state,self.action,reward,discount,next_state))\n",
    "    current_value = self.q_values[self.state, self.action]\n",
    "    self.q_values[self.state, self.action] += self.step_size * (reward + discount * max(self.q_values[next_state,:]) - current_value)\n",
    " \n",
    "    self.state = next_state                                                            \n",
    "    self.action = self.behaviour_policy(self.q_value[self.state])\n",
    "    # replay planning\n",
    "    for i in range(self.plan_step):\n",
    "      rand = np.random.randint(len(self.replayBuffer))\n",
    "      state, action, reward, discount, next_state = self.replayBuffer[rand]\n",
    "      to_update_value = self.q_values[state,action]                                                         \n",
    "      temp_diff = (reward + discount * max(self.q_values[next_state,:]) - to_update_value)\n",
    "      self.q_values[state,action] += self.step_size * temp_diff                                                        \n",
    "                                                                \n",
    "    return self.action\n",
    "    "
   ]
  },
  {
   "cell_type": "markdown",
   "metadata": {
    "colab_type": "text",
    "id": "MKfA7ifHvO-M"
   },
   "source": [
    "\n",
    "## 1.4 Dyna-Q\n",
    "**[10 pts]** Implement an agent that uses **Dyna-Q** to learn action values.  \n",
    "* select actions randomly\n",
    "* accumulate all observed transitions *(s, a, r, s')* in the environment in a *replay buffer*,\n",
    "* apply an online Q-learning to Q-value\n",
    "* apply an update to the *model* based on the latest transition\n",
    "* apply multiple Q-learning updates based on transitions *(s, a, model.reward(s), model.next_state(s))* for some previous state and action pair *(s, a)*.\n",
    "\n",
    "**Initialize** $Q(s, a)$ and $\\text{Model}(s, a)$ for all s ∈ S and a ∈ A(s)\n",
    "\n",
    "**Loop forever**:\n",
    "\n",
    "1. $S \\gets{}$current (nonterminal) state\n",
    " \n",
    "2. $A \\gets{} \\text{random_action}(S)$\n",
    " \n",
    "3. Take action $A$; observe resultant reward $R$, discount $\\gamma$, and state, $S'$\n",
    "\n",
    "4. $Q(S, A) \\gets Q(S, A) + \\alpha (R + \\gamma \\max_a Q(S', a) − Q(S, A))$\n",
    "\n",
    "5. $\\text{ReplayBuffer}.\\text{append_transition}(S, A)$\n",
    "\n",
    "6. $\\text{Model}.\\text{update}(S, A, R, \\gamma, S')$\n",
    "\n",
    "6. Loop repeat n times:\n",
    "\n",
    "  1. $S, A \\gets \\text{ReplayBuffer}.\\text{sample_transition}()$\n",
    "  \n",
    "  2. $R, \\gamma, S' \\gets \\text{Model}.\\text{transition}(S, A)$\n",
    "  \n",
    "  3. $Q(S, A) \\gets Q(S, A) + \\alpha (R + \\gamma \\max_a Q(S', a) − Q(S, A))$"
   ]
  },
  {
   "cell_type": "code",
   "execution_count": 0,
   "metadata": {
    "colab": {
     "autoexec": {
      "startup": false,
      "wait_interval": 0
     }
    },
    "colab_type": "code",
    "id": "WdJgVK6_3Q3-"
   },
   "outputs": [],
   "source": [
    "class DynaQ(object):\n",
    "\n",
    "  def __init__(\n",
    "      self, number_of_states, number_of_actions,initial_state, model, \n",
    "       behaviour_policy, num_offline_updates, step_size=0.1):\n",
    "    \n",
    "    \n",
    "    self.q_values = np.zeros([number_of_states, number_of_actions])\n",
    "    self.state = initial_state\n",
    "    self.model = model\n",
    "    self.action = 0\n",
    "    self.plan_step = num_offline_updates\n",
    "    self.step_size = step_size\n",
    "    self.replayBuffer = []\n",
    "    self.behaviour_policy = behaviour_policy\n",
    "    \n",
    "  @property\n",
    "  def q_value(self):\n",
    "    return self.q_values\n",
    "\n",
    "  def step(self, reward, discount, next_state):\n",
    "    \n",
    "    current_value = self.q_values[self.state, self.action]\n",
    "    self.q_values[self.state, self.action] += self.step_size * (reward + discount * max(self.q_values[next_state,:]) - current_value)\n",
    "    self.model.update(self.state,self.action,reward,discount,next_state)                                                         \n",
    "    self.state = next_state                                                            \n",
    "    self.action = self.behaviour_policy(self.q_values[next_state])\n",
    "    #self.action = np.argmax(self.q_values[next_state])\n",
    "    #self.action = np.random.randint(4)\n",
    "    self.replayBuffer.append((self.state, self.action))\n",
    "                                                            \n",
    "    # replay planning\n",
    "    for i in range(self.plan_step):\n",
    "      rand = np.random.randint(len(self.replayBuffer))\n",
    "      state, action = self.replayBuffer[rand]\n",
    "      reward, discount, next_state = self.model.transition(state,action)                                                     \n",
    "      to_update_value = self.q_values[state,action]  \n",
    "      temp_diff = (reward + discount * max(self.q_values[int(next_state)]) - to_update_value)\n",
    "      self.q_values[state,action] += self.step_size * temp_diff                                                        \n",
    "    return self.action                                  "
   ]
  },
  {
   "cell_type": "markdown",
   "metadata": {
    "colab_type": "text",
    "id": "ra01mmV5VPgm"
   },
   "source": [
    "## 1.5 Experience Replay with Linear Function Approximation\n",
    "\n",
    "**[10 pts]** Implement an agent that uses **Experience Replay** to learn action values as a linear function approximation over a given set of features.\n",
    "\n",
    "**Training**: To make sure of the experience in an online fashion, we will learn this linear model via gradient descent. Write down the update to the parameters of the value function and implement the update in the agent below."
   ]
  },
  {
   "cell_type": "code",
   "execution_count": 0,
   "metadata": {
    "colab": {
     "autoexec": {
      "startup": false,
      "wait_interval": 0
     }
    },
    "colab_type": "code",
    "id": "XOy_bpVa3j6V"
   },
   "outputs": [],
   "source": [
    "class FeatureExperienceQ(ExperienceQ):\n",
    "\n",
    "  def __init__(\n",
    "      self, number_of_features, number_of_actions, *args, **kwargs):\n",
    "    super(FeatureExperienceQ, self).__init__(\n",
    "        number_of_actions=number_of_actions, *args, **kwargs)\n",
    "    \n",
    "    self.q_net = np.random.rand(number_of_actions, number_of_features)\n",
    "    \n",
    "\n",
    "  def q(self, state):\n",
    "    return self.q_net @ state\n",
    "  \n",
    "  def update_weight(self, state, action, reward, discount, next_state):\n",
    "    error = reward + discount * np.max(self.q(next_state)) - self.q_net[action] @ state\n",
    "    self.q_net[action] += 0.001 * error @ self.state.T\n",
    "    \n",
    "  def step(self, reward, discount, next_state):\n",
    "    self.replayBuffer.append((self.state, self.action, reward, discount, next_state))\n",
    "    # here self.state is always state features received from get_obs\n",
    "    self.update_weight(self.state, self.action, reward, discount, next_state)\n",
    "    online_q_values = self.q(self.state)\n",
    "    \n",
    "    self.action = self.behaviour_policy(online_q_values)\n",
    "    \n",
    "    self.state = next_state\n",
    "    \n",
    "    for i in range(self.plan_step):\n",
    "      rand = np.random.randint(len(self.replayBuffer))\n",
    "      state, action, reward, discount, next_state = self.replayBuffer[rand]\n",
    "      self.update_weight(state, action, reward, discount, next_state)\n",
    "    return self.action\n",
    "   "
   ]
  },
  {
   "cell_type": "markdown",
   "metadata": {
    "colab_type": "text",
    "id": "hlu3YPGAO9ss"
   },
   "source": [
    "\n",
    "## 1.6 Dyna-Q with Linear Function Approximation\n",
    "\n",
    "**[10 pts]** Implement an agent that uses **Dyna-Q** that uses a linear function approximation to represent the value functions and a learnt linear model of the environment (represent and learn both the **transition model**(action conditioned) and the **reward model** as linear transformations of the given set of features).  \n",
    "* select actions randomly\n",
    "* accumulate all observed transitions *(s, a, r, s')* in the environment in a *replay buffer*,\n",
    "* apply an online Q-learning to Q-value\n",
    "* apply an update to the *model* based on the latest transition, use a step_size of 0.01\n",
    "* apply multiple Q-learning updates based on transitions *(s, a, model.reward(s), model.next_state(s))* for some previous state and action pair *(s, a)*.\n",
    "\n",
    "**Initialize** $Q(s, a)$ and $\\text{Model}(s, a)$ for all s ∈ S and a ∈ A(s)\n",
    "\n",
    "**Loop forever**:\n",
    "\n",
    "1. $S \\gets{}$current (nonterminal) state\n",
    " \n",
    "2. $A \\gets{} \\text{random_action}(S)$\n",
    " \n",
    "3. Take action $A$; observe resultant reward $R$, discount $\\gamma$, and state, $S'$\n",
    "\n",
    "4. $Q(S, A) \\gets Q(S, A) + \\alpha (R + \\gamma \\max_a Q(S', a) − Q(S, A))$\n",
    "\n",
    "5. $\\text{ReplayBuffer}.\\text{append_transition}(S, A)$\n",
    "\n",
    "6. $\\text{Model}.\\text{update}(S, A, R, \\gamma, S')$\n",
    "\n",
    "6. Loop repeat n times:\n",
    "\n",
    "  1. $S, A \\gets \\text{ReplayBuffer}.\\text{sample_transition}()$\n",
    "  \n",
    "  2. $R, \\gamma, S' \\gets \\text{Model}.\\text{transition}(S, A)$\n",
    "  \n",
    "  3. $Q(S, A) \\gets Q(S, A) + \\alpha (R + \\gamma \\max_a Q(S', a) − Q(S, A))$"
   ]
  },
  {
   "cell_type": "code",
   "execution_count": 0,
   "metadata": {
    "colab": {
     "autoexec": {
      "startup": false,
      "wait_interval": 0
     }
    },
    "colab_type": "code",
    "id": "1RxFwgIU39dI"
   },
   "outputs": [],
   "source": [
    "class FeatureDynaQ(DynaQ):\n",
    "\n",
    "  def __init__(self, number_of_features, number_of_actions, *args, **kwargs):\n",
    "    super(FeatureDynaQ, self).__init__(\n",
    "        number_of_actions=number_of_actions, *args, **kwargs)\n",
    "    \n",
    "    self.q_net = np.random.rand(number_of_actions, number_of_features)\n",
    "   \n",
    "  def q(self, state):\n",
    "    return self.q_net @ state\n",
    "  \n",
    "  def update_q_net(self, state, action, reward, discount, next_state):\n",
    "    error = reward + discount * np.max(self.q(next_state)) - self.q_net[action] @ state\n",
    "    # error is a vector [error] use @\n",
    "    self.q_net[action] += 0.1 * error.reshape(1,) @ state.T\n",
    "    \n",
    "  def step(self, reward, discount, next_state):\n",
    "    \n",
    "    self.update_q_net(self.state, self.action, reward, discount, next_state)\n",
    "    self.replayBuffer.append((self.state, self.action))\n",
    "    self.model.update(self.state, self.action, reward, discount, next_state)\n",
    "    self.state = next_state\n",
    "    self.action = self.behaviour_policy(self.q(self.state))\n",
    "    \n",
    "    for i in range(self.plan_step):\n",
    "      rand = np.random.randint(len(self.replayBuffer))\n",
    "      state, action = self.replayBuffer[rand]\n",
    "      reward, discount, next_state = self.model.transition(state, action)\n",
    "      #print('reward', reward)\n",
    "      #print('discount', discount)\n",
    "      #print('next state', next_state)\n",
    "      self.update_q_net(state, action, reward, discount, next_state)\n",
    " \n",
    "    return self.action"
   ]
  },
  {
   "cell_type": "markdown",
   "metadata": {
    "colab_type": "text",
    "id": "1jZsPzCmDxAh"
   },
   "source": [
    "# Assignment 2: Analyse Results"
   ]
  },
  {
   "cell_type": "markdown",
   "metadata": {
    "colab_type": "text",
    "id": "Q5AWyVs16A-x"
   },
   "source": [
    "## 2.1 Tabular Learning"
   ]
  },
  {
   "cell_type": "markdown",
   "metadata": {
    "colab_type": "text",
    "id": "qekcmj4R5Y6J"
   },
   "source": [
    "### 2.1.1 Data Efficiency"
   ]
  },
  {
   "cell_type": "markdown",
   "metadata": {
    "colab_type": "text",
    "id": "JWutE_URvT7K"
   },
   "source": [
    "**Online Q-learning**\n",
    "\n",
    "* $\\text{number_of_steps}$ = $1e3$ and $\\text{num_offline_updates}$ = $0$"
   ]
  },
  {
   "cell_type": "code",
   "execution_count": 0,
   "metadata": {
    "colab": {
     "autoexec": {
      "startup": false,
      "wait_interval": 0
     }
    },
    "colab_type": "code",
    "id": "kYwyTYFMVdRJ"
   },
   "outputs": [],
   "source": [
    "def epsilon_policy(q):\n",
    "  if np.random.rand() > 0.1:\n",
    "    return np.argmax(q)\n",
    "  else:\n",
    "    return np.random.randint(4)"
   ]
  },
  {
   "cell_type": "code",
   "execution_count": 19,
   "metadata": {
    "colab": {
     "autoexec": {
      "startup": false,
      "wait_interval": 0
     },
     "base_uri": "https://localhost:8080/",
     "height": 475,
     "output_extras": [
      {
       "item_id": 1
      }
     ]
    },
    "colab_type": "code",
    "executionInfo": {
     "elapsed": 1136,
     "status": "ok",
     "timestamp": 1521566692343,
     "user": {
      "displayName": "Jiang kunqi",
      "photoUrl": "https://lh3.googleusercontent.com/a/default-user=s128",
      "userId": "115764409563987667676"
     },
     "user_tz": 0
    },
    "id": "Iix-yw-MKS4Y",
    "outputId": "d8640450-5f3e-4948-bc1c-243724615445"
   },
   "outputs": [
    {
     "data": {
      "image/png": "[encoded data removed]",
      "text/plain": [
       "<matplotlib.figure.Figure at 0x7fd540984080>"
      ]
     },
     "metadata": {
      "tags": []
     },
     "output_type": "display_data"
    }
   ],
   "source": [
    "grid = Grid()\n",
    "\n",
    "agent = ExperienceQ(grid._layout.size,4, grid.get_obs(),random_policy, num_offline_updates=0, step_size=0.1)\n",
    "run_experiment(grid, agent, int(1e3))\n",
    "q = agent.q_values.reshape(grid._layout.shape + (4,))\n",
    "plot_action_values(q)"
   ]
  },
  {
   "cell_type": "markdown",
   "metadata": {
    "colab_type": "text",
    "id": "KZXsXJYBgC_N"
   },
   "source": [
    "**Experience Replay**\n",
    "\n",
    "* $\\text{number_of_steps}$ = $1e3$ and $\\text{num_offline_updates}$ = $30$"
   ]
  },
  {
   "cell_type": "code",
   "execution_count": 90,
   "metadata": {
    "colab": {
     "autoexec": {
      "startup": false,
      "wait_interval": 0
     },
     "base_uri": "https://localhost:8080/",
     "height": 811,
     "output_extras": [
      {
       "item_id": 1
      },
      {
       "item_id": 2
      },
      {
       "item_id": 3
      }
     ]
    },
    "colab_type": "code",
    "executionInfo": {
     "elapsed": 1647,
     "status": "ok",
     "timestamp": 1521390703594,
     "user": {
      "displayName": "Jiang kunqi",
      "photoUrl": "https://lh3.googleusercontent.com/a/default-user=s128",
      "userId": "115764409563987667676"
     },
     "user_tz": 0
    },
    "id": "ASml5uAeIl4A",
    "outputId": "9a4dc4aa-1e43-4d7a-95e1-5237db9bd038"
   },
   "outputs": [
    {
     "name": "stderr",
     "output_type": "stream",
     "text": [
      "/usr/local/lib/python3.6/dist-packages/ipykernel_launcher.py:58: MatplotlibDeprecationWarning: pyplot.hold is deprecated.\n",
      "    Future behavior will be consistent with the long-time default:\n",
      "    plot commands add elements without first clearing the\n",
      "    Axes and/or Figure.\n",
      "/usr/local/lib/python3.6/dist-packages/matplotlib/__init__.py:805: MatplotlibDeprecationWarning: axes.hold is deprecated. Please remove it from your matplotlibrc and/or style files.\n",
      "  mplDeprecation)\n",
      "/usr/local/lib/python3.6/dist-packages/matplotlib/rcsetup.py:155: MatplotlibDeprecationWarning: axes.hold is deprecated, will be removed in 3.0\n",
      "  mplDeprecation)\n"
     ]
    },
    {
     "data": {
      "image/png": "[encoded data removed]",
      "text/plain": [
       "<matplotlib.figure.Figure at 0x7fac7a1a35f8>"
      ]
     },
     "metadata": {
      "tags": []
     },
     "output_type": "display_data"
    },
    {
     "data": {
      "image/png": "[encoded data removed]",
      "text/plain": [
       "<matplotlib.figure.Figure at 0x7fac7a1a36a0>"
      ]
     },
     "metadata": {
      "tags": []
     },
     "output_type": "display_data"
    }
   ],
   "source": [
    "grid = Grid()\n",
    "agent = ExperienceQ(\n",
    "  grid._layout.size, 4, grid.get_obs(),\n",
    "  random_policy, num_offline_updates=30, step_size=0.1)\n",
    "run_experiment(grid, agent, int(1e3))\n",
    "q = agent.q_values.reshape(grid._layout.shape + (4,))\n",
    "plot_action_values(q)\n",
    "plot_greedy_policy(grid, q)"
   ]
  },
  {
   "cell_type": "markdown",
   "metadata": {
    "colab_type": "text",
    "id": "dwVs2rrpwL4H"
   },
   "source": [
    "**DynaQ**\n",
    "\n",
    "* $\\text{number_of_steps}$ = $1e3$ and $\\text{num_offline_updates}$ = $30$"
   ]
  },
  {
   "cell_type": "code",
   "execution_count": 77,
   "metadata": {
    "colab": {
     "autoexec": {
      "startup": false,
      "wait_interval": 0
     },
     "base_uri": "https://localhost:8080/",
     "height": 476,
     "output_extras": [
      {
       "item_id": 1
      }
     ]
    },
    "colab_type": "code",
    "executionInfo": {
     "elapsed": 1585,
     "status": "ok",
     "timestamp": 1521389627562,
     "user": {
      "displayName": "Jiang kunqi",
      "photoUrl": "https://lh3.googleusercontent.com/a/default-user=s128",
      "userId": "115764409563987667676"
     },
     "user_tz": 0
    },
    "id": "YG-_cjw-wRzm",
    "outputId": "9197a392-e3cb-4ae2-beb9-9034ea1d59ae"
   },
   "outputs": [
    {
     "data": {
      "image/png": "[encoded data removed]",
      "text/plain": [
       "<matplotlib.figure.Figure at 0x7fac79ad9cc0>"
      ]
     },
     "metadata": {
      "tags": []
     },
     "output_type": "display_data"
    }
   ],
   "source": [
    "grid = Grid()\n",
    "dyna_model = TabularModel(grid._layout.size, 4)\n",
    "\n",
    "def behaviour_policy(q):\n",
    "  if np.random.rand() > 0.1:\n",
    "    return np.argmax(q)\n",
    "  else:\n",
    "    return np.random.randint(4)\n",
    "\n",
    "agent = DynaQ(\n",
    "  grid._layout.size, 4, grid.get_obs(), dyna_model,\n",
    "  random_policy, num_offline_updates=30, step_size=0.1)\n",
    "run_experiment(grid, agent, int(1e3))\n",
    "q = agent.q_values.reshape(grid._layout.shape + (4,))\n",
    "plot_action_values(q)"
   ]
  },
  {
   "cell_type": "markdown",
   "metadata": {
    "colab_type": "text",
    "id": "ujZNsXFY52fi"
   },
   "source": [
    "### 2.1.2 Computational Cost\n",
    "\n",
    "What if sampling from the environment is cheap and I don't care about data efficiency but only care about the number of updates to the model?\n",
    "\n",
    "How do Online Q-learning, ExperienceReplay and Dyna-Q compare if I apply the same number of total updates?"
   ]
  },
  {
   "cell_type": "markdown",
   "metadata": {
    "colab_type": "text",
    "id": "SAdl2r7NwUF4"
   },
   "source": [
    "**Online Q-learning**\n",
    "\n",
    "* $\\text{number_of_steps}$ = $3e4$ and $\\text{num_offline_updates}$ = $0$\n",
    "\n"
   ]
  },
  {
   "cell_type": "code",
   "execution_count": 79,
   "metadata": {
    "colab": {
     "autoexec": {
      "startup": false,
      "wait_interval": 0
     },
     "base_uri": "https://localhost:8080/",
     "height": 811,
     "output_extras": [
      {
       "item_id": 1
      },
      {
       "item_id": 2
      },
      {
       "item_id": 3
      }
     ]
    },
    "colab_type": "code",
    "executionInfo": {
     "elapsed": 1882,
     "status": "ok",
     "timestamp": 1521390332099,
     "user": {
      "displayName": "Jiang kunqi",
      "photoUrl": "https://lh3.googleusercontent.com/a/default-user=s128",
      "userId": "115764409563987667676"
     },
     "user_tz": 0
    },
    "id": "OVVWtGoUwiAe",
    "outputId": "6574fce4-a493-4920-cb90-d88935a0c224"
   },
   "outputs": [
    {
     "name": "stderr",
     "output_type": "stream",
     "text": [
      "/usr/local/lib/python3.6/dist-packages/ipykernel_launcher.py:58: MatplotlibDeprecationWarning: pyplot.hold is deprecated.\n",
      "    Future behavior will be consistent with the long-time default:\n",
      "    plot commands add elements without first clearing the\n",
      "    Axes and/or Figure.\n",
      "/usr/local/lib/python3.6/dist-packages/matplotlib/__init__.py:805: MatplotlibDeprecationWarning: axes.hold is deprecated. Please remove it from your matplotlibrc and/or style files.\n",
      "  mplDeprecation)\n",
      "/usr/local/lib/python3.6/dist-packages/matplotlib/rcsetup.py:155: MatplotlibDeprecationWarning: axes.hold is deprecated, will be removed in 3.0\n",
      "  mplDeprecation)\n"
     ]
    },
    {
     "data": {
      "image/png": "[encoded data removed]",
      "text/plain": [
       "<matplotlib.figure.Figure at 0x7fac774feba8>"
      ]
     },
     "metadata": {
      "tags": []
     },
     "output_type": "display_data"
    },
    {
     "data": {
      "image/png": "[encoded data removed]",
      "text/plain": [
       "<matplotlib.figure.Figure at 0x7fac774841d0>"
      ]
     },
     "metadata": {
      "tags": []
     },
     "output_type": "display_data"
    }
   ],
   "source": [
    "grid = Grid()\n",
    "agent = ExperienceQ(\n",
    "  grid._layout.size, 4, grid.get_obs(),\n",
    "  random_policy, num_offline_updates=0, step_size=0.1)\n",
    "run_experiment(grid, agent, int(3e4))\n",
    "q = agent.q_values.reshape(grid._layout.shape + (4,))\n",
    "plot_action_values(q)\n",
    "plot_greedy_policy(grid, q)"
   ]
  },
  {
   "cell_type": "markdown",
   "metadata": {
    "colab_type": "text",
    "id": "AoO6dEZqftB1"
   },
   "source": [
    "**ExperienceReplay**\n",
    "\n",
    "* $\\text{number_of_steps}$ = $1e3$ and $\\text{num_offline_updates}$ = $30$"
   ]
  },
  {
   "cell_type": "code",
   "execution_count": 86,
   "metadata": {
    "colab": {
     "autoexec": {
      "startup": false,
      "wait_interval": 0
     },
     "base_uri": "https://localhost:8080/",
     "height": 811,
     "output_extras": [
      {
       "item_id": 1
      },
      {
       "item_id": 2
      },
      {
       "item_id": 3
      }
     ]
    },
    "colab_type": "code",
    "executionInfo": {
     "elapsed": 2122,
     "status": "ok",
     "timestamp": 1521390644466,
     "user": {
      "displayName": "Jiang kunqi",
      "photoUrl": "https://lh3.googleusercontent.com/a/default-user=s128",
      "userId": "115764409563987667676"
     },
     "user_tz": 0
    },
    "id": "PuoUs8xVxady",
    "outputId": "e8a49a1e-b453-4c66-c9c7-3b44d5e80847"
   },
   "outputs": [
    {
     "name": "stderr",
     "output_type": "stream",
     "text": [
      "/usr/local/lib/python3.6/dist-packages/ipykernel_launcher.py:58: MatplotlibDeprecationWarning: pyplot.hold is deprecated.\n",
      "    Future behavior will be consistent with the long-time default:\n",
      "    plot commands add elements without first clearing the\n",
      "    Axes and/or Figure.\n",
      "/usr/local/lib/python3.6/dist-packages/matplotlib/__init__.py:805: MatplotlibDeprecationWarning: axes.hold is deprecated. Please remove it from your matplotlibrc and/or style files.\n",
      "  mplDeprecation)\n",
      "/usr/local/lib/python3.6/dist-packages/matplotlib/rcsetup.py:155: MatplotlibDeprecationWarning: axes.hold is deprecated, will be removed in 3.0\n",
      "  mplDeprecation)\n"
     ]
    },
    {
     "data": {
      "image/png": "[encoded data removed]",
      "text/plain": [
       "<matplotlib.figure.Figure at 0x7fac79d990f0>"
      ]
     },
     "metadata": {
      "tags": []
     },
     "output_type": "display_data"
    },
    {
     "data": {
      "image/png": "[encoded data removed]",
      "text/plain": [
       "<matplotlib.figure.Figure at 0x7fac79d99358>"
      ]
     },
     "metadata": {
      "tags": []
     },
     "output_type": "display_data"
    }
   ],
   "source": [
    "grid = Grid()\n",
    "agent = ExperienceQ(\n",
    "  grid._layout.size, 4, grid.get_obs(),\n",
    "  random_policy, num_offline_updates=30, step_size=0.1)\n",
    "run_experiment(grid, agent, int(1e3))\n",
    "q = agent.q_values.reshape(grid._layout.shape + (4,))\n",
    "plot_action_values(q)\n",
    "plot_greedy_policy(grid, q)"
   ]
  },
  {
   "cell_type": "markdown",
   "metadata": {
    "colab_type": "text",
    "id": "2U-4sam12y95"
   },
   "source": [
    "**DynaQ**\n",
    "\n",
    "* $\\text{number_of_steps}$ = $1e3$ and $\\text{num_offline_updates}$ = $30$"
   ]
  },
  {
   "cell_type": "code",
   "execution_count": 93,
   "metadata": {
    "colab": {
     "autoexec": {
      "startup": false,
      "wait_interval": 0
     },
     "base_uri": "https://localhost:8080/",
     "height": 811,
     "output_extras": [
      {
       "item_id": 1
      },
      {
       "item_id": 2
      },
      {
       "item_id": 3
      }
     ]
    },
    "colab_type": "code",
    "executionInfo": {
     "elapsed": 1740,
     "status": "ok",
     "timestamp": 1521390764982,
     "user": {
      "displayName": "Jiang kunqi",
      "photoUrl": "https://lh3.googleusercontent.com/a/default-user=s128",
      "userId": "115764409563987667676"
     },
     "user_tz": 0
    },
    "id": "hDOW4dd221L6",
    "outputId": "7f5f8c52-4591-484b-e078-e7f3aa24b877"
   },
   "outputs": [
    {
     "name": "stderr",
     "output_type": "stream",
     "text": [
      "/usr/local/lib/python3.6/dist-packages/ipykernel_launcher.py:58: MatplotlibDeprecationWarning: pyplot.hold is deprecated.\n",
      "    Future behavior will be consistent with the long-time default:\n",
      "    plot commands add elements without first clearing the\n",
      "    Axes and/or Figure.\n",
      "/usr/local/lib/python3.6/dist-packages/matplotlib/__init__.py:805: MatplotlibDeprecationWarning: axes.hold is deprecated. Please remove it from your matplotlibrc and/or style files.\n",
      "  mplDeprecation)\n",
      "/usr/local/lib/python3.6/dist-packages/matplotlib/rcsetup.py:155: MatplotlibDeprecationWarning: axes.hold is deprecated, will be removed in 3.0\n",
      "  mplDeprecation)\n"
     ]
    },
    {
     "data": {
      "image/png": "[encoded data removed]",
      "text/plain": [
       "<matplotlib.figure.Figure at 0x7fac7a6546d8>"
      ]
     },
     "metadata": {
      "tags": []
     },
     "output_type": "display_data"
    },
    {
     "data": {
      "image/png": "[encoded data removed]",
      "text/plain": [
       "<matplotlib.figure.Figure at 0x7fac7a64d4e0>"
      ]
     },
     "metadata": {
      "tags": []
     },
     "output_type": "display_data"
    }
   ],
   "source": [
    "grid = Grid()\n",
    "dyna_model = TabularModel(grid._layout.size, 4)\n",
    "agent = DynaQ(\n",
    "  grid._layout.size, 4, grid.get_obs(), dyna_model,\n",
    "  random_policy, num_offline_updates=30, step_size=0.1)\n",
    "run_experiment(grid, agent, int(1e3))\n",
    "q = agent.q_values.reshape(grid._layout.shape + (4,))\n",
    "plot_action_values(q)\n",
    "plot_greedy_policy(grid, q)"
   ]
  },
  {
   "cell_type": "markdown",
   "metadata": {
    "colab_type": "text",
    "id": "GBLluo2AXMsH"
   },
   "source": [
    "## 2.3 Linear function approximation\n",
    "\n",
    "We will now consider the $\\text{FeatureGrid}$ domain.\n",
    "\n",
    "And evaluate $\\text{Q-learning}$, $\\text{Experience Replay}$ and $\\text{DynaQ}$, in the context of linear function approximation.\n",
    "\n",
    "All experiments are run for $\\text{number_of_steps}$ = $1e5$"
   ]
  },
  {
   "cell_type": "markdown",
   "metadata": {
    "colab_type": "text",
    "id": "cSrpV6pgcCR-"
   },
   "source": [
    "**Online Q-learning with Linear Function Approximation**"
   ]
  },
  {
   "cell_type": "code",
   "execution_count": 95,
   "metadata": {
    "colab": {
     "autoexec": {
      "startup": false,
      "wait_interval": 0
     },
     "base_uri": "https://localhost:8080/",
     "height": 811,
     "output_extras": [
      {
       "item_id": 1
      },
      {
       "item_id": 2
      },
      {
       "item_id": 3
      }
     ]
    },
    "colab_type": "code",
    "executionInfo": {
     "elapsed": 32549,
     "status": "ok",
     "timestamp": 1521390923648,
     "user": {
      "displayName": "Jiang kunqi",
      "photoUrl": "https://lh3.googleusercontent.com/a/default-user=s128",
      "userId": "115764409563987667676"
     },
     "user_tz": 0
    },
    "id": "zwlRPm1uXMyv",
    "outputId": "9d76e517-0f84-4670-ba78-b641cbedc1fa"
   },
   "outputs": [
    {
     "name": "stderr",
     "output_type": "stream",
     "text": [
      "/usr/local/lib/python3.6/dist-packages/ipykernel_launcher.py:58: MatplotlibDeprecationWarning: pyplot.hold is deprecated.\n",
      "    Future behavior will be consistent with the long-time default:\n",
      "    plot commands add elements without first clearing the\n",
      "    Axes and/or Figure.\n",
      "/usr/local/lib/python3.6/dist-packages/matplotlib/__init__.py:805: MatplotlibDeprecationWarning: axes.hold is deprecated. Please remove it from your matplotlibrc and/or style files.\n",
      "  mplDeprecation)\n",
      "/usr/local/lib/python3.6/dist-packages/matplotlib/rcsetup.py:155: MatplotlibDeprecationWarning: axes.hold is deprecated, will be removed in 3.0\n",
      "  mplDeprecation)\n"
     ]
    },
    {
     "data": {
      "image/png": "[encoded data removed]",
      "text/plain": [
       "<matplotlib.figure.Figure at 0x7fac772866a0>"
      ]
     },
     "metadata": {
      "tags": []
     },
     "output_type": "display_data"
    },
    {
     "data": {
      "image/png": "[encoded data removed]",
      "text/plain": [
       "<matplotlib.figure.Figure at 0x7fac7a654710>"
      ]
     },
     "metadata": {
      "tags": []
     },
     "output_type": "display_data"
    }
   ],
   "source": [
    "# don't know why that epsilon policy will bring worse result\n",
    "grid = FeatureGrid()\n",
    "\n",
    "agent = FeatureExperienceQ(\n",
    "  number_of_features=grid.number_of_features, number_of_actions=4,\n",
    "  number_of_states=grid._layout.size, initial_state=grid.get_obs(),\n",
    "  num_offline_updates=0, step_size=0.01, behaviour_policy=random_policy)\n",
    "run_experiment(grid, agent, int(1e5))\n",
    "q = np.reshape(\n",
    "    np.array([agent.q(grid.int_to_features(i)) for i in range(grid.number_of_states)]),\n",
    "    [grid._layout.shape[0], grid._layout.shape[1], 4])\n",
    "plot_action_values(q)\n",
    "plot_greedy_policy(grid, q)"
   ]
  },
  {
   "cell_type": "markdown",
   "metadata": {
    "colab_type": "text",
    "id": "LguqeKO4dXBH"
   },
   "source": [
    "**Experience Replay with Linear Function Approximation**"
   ]
  },
  {
   "cell_type": "code",
   "execution_count": 100,
   "metadata": {
    "colab": {
     "autoexec": {
      "startup": false,
      "wait_interval": 0
     },
     "base_uri": "https://localhost:8080/",
     "height": 811,
     "output_extras": [
      {
       "item_id": 1
      },
      {
       "item_id": 2
      },
      {
       "item_id": 3
      }
     ]
    },
    "colab_type": "code",
    "executionInfo": {
     "elapsed": 58391,
     "status": "ok",
     "timestamp": 1521396495098,
     "user": {
      "displayName": "Jiang kunqi",
      "photoUrl": "https://lh3.googleusercontent.com/a/default-user=s128",
      "userId": "115764409563987667676"
     },
     "user_tz": 0
    },
    "id": "Wb6XeKzXcIsi",
    "outputId": "95eb63dd-01d4-43db-da9c-f8cac260df41"
   },
   "outputs": [
    {
     "name": "stderr",
     "output_type": "stream",
     "text": [
      "/usr/local/lib/python3.6/dist-packages/ipykernel_launcher.py:58: MatplotlibDeprecationWarning: pyplot.hold is deprecated.\n",
      "    Future behavior will be consistent with the long-time default:\n",
      "    plot commands add elements without first clearing the\n",
      "    Axes and/or Figure.\n",
      "/usr/local/lib/python3.6/dist-packages/matplotlib/__init__.py:805: MatplotlibDeprecationWarning: axes.hold is deprecated. Please remove it from your matplotlibrc and/or style files.\n",
      "  mplDeprecation)\n",
      "/usr/local/lib/python3.6/dist-packages/matplotlib/rcsetup.py:155: MatplotlibDeprecationWarning: axes.hold is deprecated, will be removed in 3.0\n",
      "  mplDeprecation)\n"
     ]
    },
    {
     "data": {
      "image/png": "[encoded data removed]",
      "text/plain": [
       "<matplotlib.figure.Figure at 0x7fac7575a0f0>"
      ]
     },
     "metadata": {
      "tags": []
     },
     "output_type": "display_data"
    },
    {
     "data": {
      "image/png": "[encoded data removed]",
      "text/plain": [
       "<matplotlib.figure.Figure at 0x7fac755496d8>"
      ]
     },
     "metadata": {
      "tags": []
     },
     "output_type": "display_data"
    }
   ],
   "source": [
    "grid = FeatureGrid()\n",
    "\n",
    "agent = FeatureExperienceQ(\n",
    "  number_of_features=grid.number_of_features, number_of_actions=4,\n",
    "  number_of_states=grid._layout.size, initial_state=grid.get_obs(),\n",
    "  num_offline_updates=10, step_size=0.01, behaviour_policy= epslon_policy)\n",
    "run_experiment(grid, agent, int(1e5))\n",
    "q = np.reshape(\n",
    "    np.array([agent.q(grid.int_to_features(i)) for i in range(grid.number_of_states)]),\n",
    "    [grid._layout.shape[0], grid._layout.shape[1], 4])\n",
    "plot_action_values(q)\n",
    "plot_greedy_policy(grid, q)"
   ]
  },
  {
   "cell_type": "markdown",
   "metadata": {
    "colab_type": "text",
    "id": "ERjyViuj1EkS"
   },
   "source": [
    "**DynaQ with Linear Function Approximation**"
   ]
  },
  {
   "cell_type": "code",
   "execution_count": 20,
   "metadata": {
    "colab": {
     "autoexec": {
      "startup": false,
      "wait_interval": 0
     },
     "base_uri": "https://localhost:8080/",
     "height": 818,
     "output_extras": [
      {
       "item_id": 1
      },
      {
       "item_id": 2
      },
      {
       "item_id": 3
      }
     ]
    },
    "colab_type": "code",
    "executionInfo": {
     "elapsed": 99663,
     "status": "ok",
     "timestamp": 1521567207645,
     "user": {
      "displayName": "Jiang kunqi",
      "photoUrl": "https://lh3.googleusercontent.com/a/default-user=s128",
      "userId": "115764409563987667676"
     },
     "user_tz": 0
    },
    "id": "DVDRVknH1MXw",
    "outputId": "73accbed-e4f7-479b-b548-61ee346be73d"
   },
   "outputs": [
    {
     "name": "stderr",
     "output_type": "stream",
     "text": [
      "/usr/local/lib/python3.6/dist-packages/ipykernel_launcher.py:58: MatplotlibDeprecationWarning: pyplot.hold is deprecated.\n",
      "    Future behavior will be consistent with the long-time default:\n",
      "    plot commands add elements without first clearing the\n",
      "    Axes and/or Figure.\n",
      "/usr/local/lib/python3.6/dist-packages/matplotlib/__init__.py:805: MatplotlibDeprecationWarning: axes.hold is deprecated. Please remove it from your matplotlibrc and/or style files.\n",
      "  mplDeprecation)\n",
      "/usr/local/lib/python3.6/dist-packages/matplotlib/rcsetup.py:155: MatplotlibDeprecationWarning: axes.hold is deprecated, will be removed in 3.0\n",
      "  mplDeprecation)\n"
     ]
    },
    {
     "data": {
      "image/png": "[encoded data removed]",
      "text/plain": [
       "<matplotlib.figure.Figure at 0x7fd5405b9978>"
      ]
     },
     "metadata": {
      "tags": []
     },
     "output_type": "display_data"
    },
    {
     "data": {
      "image/png": "[encoded data removed]",
      "text/plain": [
       "<matplotlib.figure.Figure at 0x7fd5405b9a90>"
      ]
     },
     "metadata": {
      "tags": []
     },
     "output_type": "display_data"
    }
   ],
   "source": [
    "grid = FeatureGrid()\n",
    "\n",
    "linear_model = LinearModel(grid.number_of_features, 4)\n",
    "\n",
    "\n",
    "agent = FeatureDynaQ(\n",
    "  number_of_features=grid.number_of_features, \n",
    "  number_of_actions=4,\n",
    "  \n",
    "  number_of_states=grid._layout.size, \n",
    "  initial_state=grid.get_obs(),\n",
    "  model = linear_model,\n",
    "  num_offline_updates=10, \n",
    "  step_size=0.01,\n",
    "  behaviour_policy=random_policy,\n",
    "  )\n",
    "\n",
    "run_experiment(grid, agent, int(1e5))\n",
    "q = np.reshape(\n",
    "    np.array([agent.q(grid.int_to_features(i)) for i in range(grid.number_of_states)]),\n",
    "    [grid._layout.shape[0], grid._layout.shape[1], 4])\n",
    "plot_action_values(q)\n",
    "plot_greedy_policy(grid, q)"
   ]
  },
  {
   "cell_type": "markdown",
   "metadata": {
    "colab_type": "text",
    "id": "arP0Nf0XUGrB"
   },
   "source": [
    "## 2.4 Non stationary Environments\n",
    "\n",
    "We now consider a non-stationary setting where after `pretrain_steps` in the environment, the goal is moved to a new location (from the top-right of the grid to the bottom-left).\n",
    "\n",
    "The agent is allowed to continue training for a (shorter) amount of time in this new setting, and then we evaluate the value estimates."
   ]
  },
  {
   "cell_type": "code",
   "execution_count": 0,
   "metadata": {
    "colab": {
     "autoexec": {
      "startup": false,
      "wait_interval": 0
     }
    },
    "colab_type": "code",
    "id": "Hjhd4kylg-BA"
   },
   "outputs": [],
   "source": [
    "pretrain_steps = 2e4\n",
    "new_env_steps = pretrain_steps / 30"
   ]
  },
  {
   "cell_type": "markdown",
   "metadata": {
    "colab_type": "text",
    "id": "K1kJZmOgX7du"
   },
   "source": [
    "**Online Q-learning**"
   ]
  },
  {
   "cell_type": "code",
   "execution_count": 71,
   "metadata": {
    "colab": {
     "autoexec": {
      "startup": false,
      "wait_interval": 0
     },
     "base_uri": "https://localhost:8080/",
     "height": 499,
     "output_extras": [
      {
       "item_id": 1
      },
      {
       "item_id": 2
      }
     ]
    },
    "colab_type": "code",
    "executionInfo": {
     "elapsed": 1320,
     "status": "ok",
     "timestamp": 1521389170996,
     "user": {
      "displayName": "Jiang kunqi",
      "photoUrl": "https://lh3.googleusercontent.com/a/default-user=s128",
      "userId": "115764409563987667676"
     },
     "user_tz": 0
    },
    "id": "6P9lC323X7uH",
    "outputId": "9c16ebc3-f7fe-4b79-a64e-21119d9c1707"
   },
   "outputs": [
    {
     "data": {
      "image/png": "[encoded data removed]",
      "text/plain": [
       "<matplotlib.figure.Figure at 0x7fac799795c0>"
      ]
     },
     "metadata": {
      "tags": []
     },
     "output_type": "display_data"
    },
    {
     "data": {
      "image/png": "[encoded data removed]",
      "text/plain": [
       "<matplotlib.figure.Figure at 0x7fac773515c0>"
      ]
     },
     "metadata": {
      "tags": []
     },
     "output_type": "display_data"
    }
   ],
   "source": [
    "# Train on first environment\n",
    "grid = Grid()\n",
    "agent = ExperienceQ(\n",
    "  grid._layout.size, 4, grid.get_obs(),\n",
    "  random_policy, num_offline_updates=0, step_size=0.1)\n",
    "run_experiment(grid, agent, int(pretrain_steps))\n",
    "q = agent.q_values.reshape(grid._layout.shape + (4,))\n",
    "plot_state_value(q)\n",
    "\n",
    "# Train on first environment\n",
    "\n",
    "alt_grid = AltGrid()\n",
    "run_experiment(alt_grid, agent, int(pretrain_steps))\n",
    "q = agent.q_values.reshape(grid._layout.shape + (4,))\n",
    "plot_state_value(q)\n"
   ]
  },
  {
   "cell_type": "markdown",
   "metadata": {
    "colab_type": "text",
    "id": "z0UeIltFc3lR"
   },
   "source": [
    "**Experience Replay**"
   ]
  },
  {
   "cell_type": "code",
   "execution_count": 105,
   "metadata": {
    "colab": {
     "autoexec": {
      "startup": false,
      "wait_interval": 0
     },
     "base_uri": "https://localhost:8080/",
     "height": 258,
     "output_extras": [
      {
       "item_id": 1
      }
     ]
    },
    "colab_type": "code",
    "executionInfo": {
     "elapsed": 4131,
     "status": "ok",
     "timestamp": 1521397509380,
     "user": {
      "displayName": "Jiang kunqi",
      "photoUrl": "https://lh3.googleusercontent.com/a/default-user=s128",
      "userId": "115764409563987667676"
     },
     "user_tz": 0
    },
    "id": "bq5msw1iY-Q5",
    "outputId": "6f5e9f51-dbed-4aff-ab4b-0430fdaceeb8"
   },
   "outputs": [
    {
     "data": {
      "image/png": "[encoded data removed]",
      "text/plain": [
       "<matplotlib.figure.Figure at 0x7fac7580e128>"
      ]
     },
     "metadata": {
      "tags": []
     },
     "output_type": "display_data"
    }
   ],
   "source": [
    "# Train on first environment\n",
    "grid = Grid()\n",
    "agent = ExperienceQ(\n",
    "  grid._layout.size, 4, grid.get_obs(),\n",
    "  random_policy, num_offline_updates=30, step_size=0.1)\n",
    "run_experiment(grid, agent, int(pretrain_steps))\n",
    "q = agent.q_values.reshape(grid._layout.shape + (4,))\n",
    "plot_state_value(q)\n",
    "\n"
   ]
  },
  {
   "cell_type": "code",
   "execution_count": 106,
   "metadata": {
    "colab": {
     "autoexec": {
      "startup": false,
      "wait_interval": 0
     },
     "base_uri": "https://localhost:8080/",
     "height": 258,
     "output_extras": [
      {
       "item_id": 1
      }
     ]
    },
    "colab_type": "code",
    "executionInfo": {
     "elapsed": 759,
     "status": "ok",
     "timestamp": 1521397512554,
     "user": {
      "displayName": "Jiang kunqi",
      "photoUrl": "https://lh3.googleusercontent.com/a/default-user=s128",
      "userId": "115764409563987667676"
     },
     "user_tz": 0
    },
    "id": "mxHC1NHQ2J4y",
    "outputId": "7952e316-3630-49cd-dd22-00de77f16ce1"
   },
   "outputs": [
    {
     "data": {
      "image/png": "[encoded data removed]",
      "text/plain": [
       "<matplotlib.figure.Figure at 0x7fac731c1da0>"
      ]
     },
     "metadata": {
      "tags": []
     },
     "output_type": "display_data"
    }
   ],
   "source": [
    "# Change goal location\n",
    "alt_grid = AltGrid()\n",
    "run_experiment(alt_grid, agent, int(new_env_steps))\n",
    "alt_q = agent.q_values.reshape(alt_grid._layout.shape + (4,))\n",
    "plot_state_value(alt_q)"
   ]
  },
  {
   "cell_type": "markdown",
   "metadata": {
    "colab_type": "text",
    "id": "uPHiZc0-X26F"
   },
   "source": [
    "**Dyna**"
   ]
  },
  {
   "cell_type": "code",
   "execution_count": 78,
   "metadata": {
    "colab": {
     "autoexec": {
      "startup": false,
      "wait_interval": 0
     },
     "base_uri": "https://localhost:8080/",
     "height": 499,
     "output_extras": [
      {
       "item_id": 1
      },
      {
       "item_id": 2
      }
     ]
    },
    "colab_type": "code",
    "executionInfo": {
     "elapsed": 5152,
     "status": "ok",
     "timestamp": 1521389702999,
     "user": {
      "displayName": "Jiang kunqi",
      "photoUrl": "https://lh3.googleusercontent.com/a/default-user=s128",
      "userId": "115764409563987667676"
     },
     "user_tz": 0
    },
    "id": "AwztU4EbUXe0",
    "outputId": "b8d00195-b88d-4417-d2a0-d87d40caa1ee"
   },
   "outputs": [
    {
     "data": {
      "image/png": "[encoded data removed]",
      "text/plain": [
       "<matplotlib.figure.Figure at 0x7fac7734ec88>"
      ]
     },
     "metadata": {
      "tags": []
     },
     "output_type": "display_data"
    },
    {
     "data": {
      "image/png": "[encoded data removed]",
      "text/plain": [
       "<matplotlib.figure.Figure at 0x7fac773355c0>"
      ]
     },
     "metadata": {
      "tags": []
     },
     "output_type": "display_data"
    }
   ],
   "source": [
    "# Train on first environment\n",
    "grid = Grid()\n",
    "agent = DynaQ(\n",
    "  grid._layout.size, 4, grid.get_obs(), dyna_model,\n",
    "  random_policy, num_offline_updates=30, step_size=0.1)\n",
    "run_experiment(grid, agent, int(pretrain_steps))\n",
    "q = agent.q_values.reshape(grid._layout.shape + (4,))\n",
    "plot_state_value(q)\n",
    "\n",
    "# Change goal location\n",
    "alt_grid = AltGrid()\n",
    "run_experiment(alt_grid, agent, int(new_env_steps))\n",
    "alt_q = agent.q_values.reshape(alt_grid._layout.shape + (4,))\n",
    "plot_state_value(alt_q)"
   ]
  },
  {
   "cell_type": "markdown",
   "metadata": {
    "colab_type": "text",
    "id": "LGptHwE23lmP"
   },
   "source": [
    "## Questions\n",
    "\n",
    "### Basic Tabular Learning\n",
    "\n",
    "**[5 pts]** Why is the ExperienceReplay agent so much more data efficient than online Q-learning? </br >\n",
    "  Because ExperienceReplay has a model to utilize simulated experience to make update instead of only using the real experience from interacting with environment.\n",
    "\n",
    "**[5 pts]** If we run the experiments for the same number of updates, rather than the same number of steps in the environment, which among online Q-learning and Experience Replay performs better? Why? </br >\n",
    "  That is because plain online Q learning will waste a lot of updates in achieving nothing changed especially in the first serval episold, since most of the values stay zero expect the one leading to terminal. On the other hand, ExperienceReplay narrows down the scope to the values that are more likely to change.\n",
    "\n",
    "**[5 pts]** Which among online Q-learning and Dyna-Q is more data efficient? why? </br >\n",
    "  Dyna-Q is more data efficient because it has a model learning from the real experiences simutaneously, this model records the latest transition of each state from real experience such that it is a unbiased estimate of real environment, and it use this model to generate simulated experience and trains itself on them.\n",
    "\n",
    "**[5 pts]** If we run the experiments for the same number of updates, rather than the same number of steps in the environment, which among online Q-learning and Dyna-Q performs better? Why? </br >\n",
    "  The answer will be pretty much similar to the ExperienceReplay's one, dynaQ samples from past path, so it will be much likely to make real update for the state that leads to the goal in the first several episoids instead of wasting a lot of blank update, so it will learn very faster than online Q-learning.\n",
    "\n",
    "### Linear function approximation\n",
    "\n",
    "**[5 pts]** The value estimates with function approximation are considerably more blurry than in the tabular setting despite more training steps and interactions with the environment, why is this the case? </br >\n",
    "  The problem are very common problems in deep reinforcement learning: 1, the training data is not generated from iid, which is a assumption of surpvised learning, due to the policy changes all the time. 2, since approximate function is trained against the value of next state esimated by the same function, the succussor state are generally similar, so parameters could not updated quite well.\n",
    "\n",
    "**[5 pts]** Inspect the policies derived by training agents with linear function approximation on `FeatureGrid` (as shown by `plot_greedy_policy`). How does this compare to the optimal policy? Are there any inconsistencies you can spot? What is the reason of these? </br >\n",
    "  Comparing to the optimal policy as achieved by tabalar methonds, there some inconsistencies laid in the linear function apprximation policy, which reflect the fact that under the two problems discussed in the above questions, linear function approximation method are likely to provide suboptimal policy due to the unmet assumption of supervised learning.\n",
    "\n",
    "### Learning in a non stationary environment\n",
    "\n",
    "Consider now the tabular but non-stationary setting of section 2.4.\n",
    "\n",
    "After an initial pretraining phase, the goal location is moved to a new location, where the agent is allowed to train for some (shorter) time.\n",
    "\n",
    "**[10 pts]** Compare the value estimates of online Q-learning and Experience Replay, after training also on the new goal location, explain what you see.  </br >\n",
    "  \n",
    "  Online Q-learning finished correcting its optimal policy with respect to new environment, howerver, ExperienceReplay falls to correcting its policy. Because online Q-learning does not have the process of planning, it will find the high reward of original terminal does not exist anymore and graduatelly adjust the action value driven by the new terminal, while ExperienceReplay have a buffer records the whole history so very likely to update on the majority of wrong data once environment changed, it will be very hard to correcting the policy with keeping making wrong update unless the new coming right data overwhelme the wrong ones.\n",
    "\n",
    "**[10 pts]** Compare the value estimates of online Q-learning and Dyna-Q, after training also on the new goal location, explain what you see. </ br>\n",
    "  \n",
    "  They both switch to right optimal policy very efficiently from which we can see another advantage of dynaQ over experience replay besides memory efficiency. DynaQ use only use a table to record the latest record rather than the buffer, which enable dynaQ to make adjustment with repect to new terminal very quickly once it see the new target from its random policy exploration.\n",
    "\n",
    "Back up your observations with visualizations of the value/policy.\n",
    "\n"
   ]
  },
  {
   "cell_type": "code",
   "execution_count": 0,
   "metadata": {
    "colab": {
     "autoexec": {
      "startup": false,
      "wait_interval": 0
     }
    },
    "colab_type": "code",
    "id": "-9MNyXV165oG"
   },
   "outputs": [],
   "source": []
  }
 ],
 "metadata": {
  "accelerator": "GPU",
  "colab": {
   "collapsed_sections": [],
   "default_view": {},
   "name": "RL_cw3_questions.ipynb",
   "provenance": [
    {
     "file_id": "1mIWeHr4YB6AVcwtRszH87Lj7y3pEhLVM",
     "timestamp": 1520447403512
    },
    {
     "file_id": "1AmoBDF9hWeKfxWp6h_ihyI-KFbhQeSJW",
     "timestamp": 1520259410401
    },
    {
     "file_id": "1FwMxkDPkt68fxovrMmmWwm6ohYvX2wt1",
     "timestamp": 1517660129183
    },
    {
     "file_id": "1wwTq5nociiMHUb26jxrvZvGN6l11xV5o",
     "timestamp": 1517174839485
    },
    {
     "file_id": "1_gJNoj9wG4mnigscGRAcZx7RHix3HCjG",
     "timestamp": 1515086437469
    },
    {
     "file_id": "1hcBeMVfaSh8g1R2ujtmxOSHoxJ8xYkaW",
     "timestamp": 1511098107887
    }
   ],
   "version": "0.3.2",
   "views": {}
  },
  "kernelspec": {
   "display_name": "Python 3",
   "language": "python",
   "name": "python3"
  },
  "language_info": {
   "codemirror_mode": {
    "name": "ipython",
    "version": 3
   },
   "file_extension": ".py",
   "mimetype": "text/x-python",
   "name": "python",
   "nbconvert_exporter": "python",
   "pygments_lexer": "ipython3",
   "version": "3.5.1"
  }
 },
 "nbformat": 4,
 "nbformat_minor": 1
}
