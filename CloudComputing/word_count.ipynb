{
 "cells": [
  {
   "cell_type": "code",
   "execution_count": 14,
   "metadata": {},
   "outputs": [
    {
     "name": "stdout",
     "output_type": "stream",
     "text": [
      "Overwriting word_count.py\n"
     ]
    }
   ],
   "source": [
    "%%file word_count.py\n",
    "# From http://mrjob.readthedocs.org/en/latest/guides/quickstart.html#writing-your-first-job\n",
    "\n",
    "from mrjob.job import MRJob\n",
    "\n",
    "\n",
    "class MRWordFrequencyCount(MRJob):\n",
    "\n",
    "    def mapper(self, _, line):\n",
    "        yield \"chars\", len(line)\n",
    "        yield \"words\", len(line.split())\n",
    "        yield \"lines\", 1\n",
    "\n",
    "    def reducer(self, key, values):\n",
    "        yield key, sum(values)\n",
    "\n",
    "\n",
    "if __name__ == '__main__':\n",
    "    MRWordFrequencyCount.run()"
   ]
  },
  {
   "cell_type": "code",
   "execution_count": 20,
   "metadata": {},
   "outputs": [
    {
     "name": "stdout",
     "output_type": "stream",
     "text": [
      "Using configs in /Users/kunqi/.mrjob.conf\n",
      "No configs specified for local runner\n",
      "Creating temp directory /var/folders/4d/4swl2l3n01q83kl3sg5lynph0000gn/T/word_count.kunqi.20171103.214906.238556\n",
      "Running step 1 of 1...\n",
      "Removing temp directory /var/folders/4d/4swl2l3n01q83kl3sg5lynph0000gn/T/word_count.kunqi.20171103.214906.238556...\n"
     ]
    }
   ],
   "source": [
    "!python3 word_count.py -r local *.txt --output-dir=./word_count_out/ --no-output"
   ]
  },
  {
   "cell_type": "code",
   "execution_count": 22,
   "metadata": {},
   "outputs": [
    {
     "name": "stdout",
     "output_type": "stream",
     "text": [
      "Using configs in /Users/kunqi/.mrjob.conf\n",
      "Using s3://mrjob-6c75403cb56129cd/tmp/ as our temp dir on S3\n",
      "Creating temp directory /var/folders/4d/4swl2l3n01q83kl3sg5lynph0000gn/T/word_count.kunqi.20171103.234550.858244\n",
      "writing master bootstrap script to /var/folders/4d/4swl2l3n01q83kl3sg5lynph0000gn/T/word_count.kunqi.20171103.234550.858244/b.sh\n",
      "Copying local files to s3://mrjob-6c75403cb56129cd/tmp/word_count.kunqi.20171103.234550.858244/files/...\n",
      "Created new cluster j-36G7XP80V0U19\n",
      "Added EMR tags to cluster j-36G7XP80V0U19: __mrjob_version=0.6.0\n",
      "Waiting for step 1 of 1 (s-2GBO8GHJL79HB) to complete...\n",
      "  PENDING (cluster is STARTING)\n",
      "  PENDING (cluster is STARTING)\n",
      "  PENDING (cluster is STARTING)\n",
      "  PENDING (cluster is STARTING: Configuring cluster software)\n",
      "  PENDING (cluster is BOOTSTRAPPING: Running bootstrap actions)\n",
      "  PENDING (cluster is BOOTSTRAPPING: Running bootstrap actions)\n",
      "  PENDING (cluster is BOOTSTRAPPING: Running bootstrap actions)\n",
      "  PENDING (cluster is BOOTSTRAPPING: Running bootstrap actions)\n",
      "  Opening ssh tunnel to resource manager...\n",
      "  Connect to resource manager at: http://localhost:40748/cluster\n",
      "  RUNNING for -1 day, 23:59:48\n",
      "  COMPLETED\n",
      "Attempting to fetch counters from logs...\n",
      "Looking for step log in /mnt/var/log/hadoop/steps/s-2GBO8GHJL79HB on ec2-34-250-207-104.eu-west-1.compute.amazonaws.com...\n",
      "Looking for step log in s3://mrjob-6c75403cb56129cd/tmp/logs/j-36G7XP80V0U19/steps/s-2GBO8GHJL79HB...\n",
      "  Parsing step log: s3://mrjob-6c75403cb56129cd/tmp/logs/j-36G7XP80V0U19/steps/s-2GBO8GHJL79HB/syslog.gz\n",
      "Looking for step log in /mnt/var/log/hadoop/steps/s-2GBO8GHJL79HB on ec2-34-250-207-104.eu-west-1.compute.amazonaws.com...\n",
      "Looking for step log in s3://mrjob-6c75403cb56129cd/tmp/logs/j-36G7XP80V0U19/steps/s-2GBO8GHJL79HB...\n",
      "  Parsing step log: s3://mrjob-6c75403cb56129cd/tmp/logs/j-36G7XP80V0U19/steps/s-2GBO8GHJL79HB/stderr.gz\n",
      "Can't fetch history log; missing job ID\n",
      "No counters found\n",
      "Removing s3 temp directory s3://mrjob-6c75403cb56129cd/tmp/word_count.kunqi.20171103.234550.858244/...\n",
      "Removing temp directory /var/folders/4d/4swl2l3n01q83kl3sg5lynph0000gn/T/word_count.kunqi.20171103.234550.858244...\n",
      "Removing log files in s3://mrjob-6c75403cb56129cd/tmp/logs/j-36G7XP80V0U19/...\n",
      "Terminating cluster: j-36G7XP80V0U19\n"
     ]
    }
   ],
   "source": [
    "!python3 word_count.py -r emr s3://mapreduct/input/*.txt --output-dir=s3://mapreduct/word_count_out --no-output"
   ]
  },
  {
   "cell_type": "code",
   "execution_count": null,
   "metadata": {},
   "outputs": [],
   "source": []
  }
 ],
 "metadata": {
  "kernelspec": {
   "display_name": "Python 3",
   "language": "python",
   "name": "python3"
  },
  "language_info": {
   "codemirror_mode": {
    "name": "ipython",
    "version": 3
   },
   "file_extension": ".py",
   "mimetype": "text/x-python",
   "name": "python",
   "nbconvert_exporter": "python",
   "pygments_lexer": "ipython3",
   "version": "3.5.1"
  }
 },
 "nbformat": 4,
 "nbformat_minor": 2
}
