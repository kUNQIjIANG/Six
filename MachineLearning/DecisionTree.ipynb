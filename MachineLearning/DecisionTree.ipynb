{
 "cells": [
  {
   "cell_type": "markdown",
   "metadata": {},
   "source": [
    "In this notebooks, I implemented decision tree in terms of (1) choosing split attributes by information gain; (2) recursively growing tree; (3) prune tree by regularized cost function; (4) plot tree; (5) inference\n",
    "\n",
    "Author: Kunqi Jiang <br/>\n",
    "Date: 7/15/2018"
   ]
  },
  {
   "cell_type": "code",
   "execution_count": 631,
   "metadata": {},
   "outputs": [],
   "source": [
    "import numpy as np\n",
    "from collections import Counter as count\n",
    "from collections import defaultdict"
   ]
  },
  {
   "cell_type": "code",
   "execution_count": 643,
   "metadata": {},
   "outputs": [],
   "source": [
    "attributes_label = {'年龄':{'青年':0,'中年':1,'老年':2},\n",
    "                    '工作':{'无':0,'有':1},\n",
    "                    '房子':{'无':0,'有':1},\n",
    "                    '信用':{'一般':0,'好':1,'非常好':2},\n",
    "                    '类别':{'否':0, '是':1}}\n",
    "\n",
    "attr_index = {0:'Age',1:'Work',2:'House',3:'Credit','leaf':'leaf'}\n",
    "label_index = {0:'No',1:'Yes'}\n",
    "\n",
    "# Note: last column is label\n",
    "data_table = [[0,0,0,0,0],\n",
    "              [0,0,0,1,0],\n",
    "              [0,1,0,1,1],\n",
    "              [0,1,1,0,1],\n",
    "              [0,0,0,0,0],\n",
    "              [1,0,0,0,0],\n",
    "              [1,0,0,1,0],\n",
    "              [1,1,1,1,1],\n",
    "              [1,0,1,2,1],\n",
    "              [1,0,1,2,1],\n",
    "              [2,0,1,2,1],\n",
    "              [2,0,1,1,1],\n",
    "              [2,1,0,1,1],\n",
    "              [2,1,0,2,1],\n",
    "              [2,0,0,0,0],\n",
    "              [1,0,0,0,1],\n",
    "              [1,1,0,2,1],\n",
    "              [0,1,1,1,0]]"
   ]
  },
  {
   "cell_type": "code",
   "execution_count": 633,
   "metadata": {},
   "outputs": [],
   "source": [
    "class Node:\n",
    "    def __init__(self,attrs,datas,parent,height):\n",
    "        self.attrs = attrs\n",
    "        self.datas = datas\n",
    "        self.numData = len(datas)\n",
    "        self.children = defaultdict(Node)\n",
    "        self.split_attr = 'leaf'\n",
    "        self.leaf = False\n",
    "        self.parent = parent\n",
    "        self.height = height\n",
    "        \n",
    "    # check if all labels same\n",
    "    def pure(self,datas):\n",
    "        labels = []\n",
    "        for data in datas:\n",
    "            labels.append(data[-1])\n",
    "        if len(set(labels)) == 1:\n",
    "            return True\n",
    "        return False\n",
    "    \n",
    "    # labels distributes\n",
    "    def distribute(self,datas):\n",
    "        labels = []\n",
    "        for d in datas:\n",
    "            labels.append(d[-1])\n",
    "        return count(labels)\n",
    "    \n",
    "    # take the majority as node label\n",
    "    def majorVote(self):\n",
    "        c = self.distribute(self.datas)\n",
    "        return max(c,key=c.get)\n",
    "    \n",
    "    # calculate the entropy of node\n",
    "    def entropy(self,datas):\n",
    "        dist = self.distribute(datas)\n",
    "        entropy = 0\n",
    "        for c in dist.values():\n",
    "            p = c/len(datas)\n",
    "            entropy += -p*np.log(p)\n",
    "        return entropy\n",
    "    \n",
    "    # calculate information gain split by an attribute\n",
    "    def inforGain(self,datas,attr):\n",
    "        entropy = self.entropy(datas)\n",
    "        dk = defaultdict(list)\n",
    "        # group datas in this node by the attribute\n",
    "        for data in datas:\n",
    "            dk[data[attr]].append(data)\n",
    "        # calculate condictional entropy after split\n",
    "        con_entropy = 0\n",
    "        for attr, cate in dk.items():\n",
    "            con_entropy += (len(cate)/len(datas)) * self.entropy(cate)\n",
    "        return entropy - con_entropy \n",
    "    \n",
    "    # find best available(not used) attribute to split\n",
    "    # according to information gain\n",
    "    def best_attr(self,datas):\n",
    "        I = 0\n",
    "        G = []\n",
    "        for attr in self.attrs:\n",
    "            G.append(self.inforGain(datas,attr))\n",
    "        return self.attrs[G.index(max(G))]\n",
    "    \n",
    "    # split into children by given attribute\n",
    "    def split(self,datas,attr):\n",
    "        self.split_attr = attr\n",
    "        attrs_left = [a for a in self.attrs if a is not attr]\n",
    "        dk = defaultdict(list)\n",
    "        for data in datas:\n",
    "            dk[data[attr]].append(data)\n",
    "        for key, group in dk.items():\n",
    "            child = Node(attrs_left,group,self,self.height+1)\n",
    "            self.children[key] = child # key is attr categories"
   ]
  },
  {
   "cell_type": "code",
   "execution_count": 634,
   "metadata": {},
   "outputs": [],
   "source": [
    "class ID3:\n",
    "    def __init__(self,attr_index):\n",
    "        self.attr_index = attr_index\n",
    "    \n",
    "    def buildTree(self,root):\n",
    "        # if all attr used up\n",
    "        if len(root.attrs) == 0:\n",
    "            root.leaf = True\n",
    "            return root\n",
    "        # if all labels same\n",
    "        elif root.pure(root.datas):\n",
    "            root.leaf = True\n",
    "            return root\n",
    "        else:\n",
    "            choose_attr = root.best_attr(root.datas)\n",
    "            root.split(root.datas,choose_attr)\n",
    "            for child in root.children.values():\n",
    "                self.buildTree(child) # recursively build tree\n",
    "    \n",
    "    def printTree(self,root):\n",
    "        c = root.distribute(root.datas)\n",
    "        print('Node: {} at height {} Labels: {}'.format(attr_index[root.split_attr],root.height,dict(c)))\n",
    "        for child in root.children.values():\n",
    "            self.printTree(child)\n",
    "    \n",
    "    # number of all leaf in a tree\n",
    "    def numOfLeaf(self,root):\n",
    "        if root.leaf:\n",
    "            return 1\n",
    "        else:\n",
    "            return sum([self.numOfLeaf(child) for child in root.children.values()])\n",
    "    \n",
    "    # entropy of current tree\n",
    "    def leafEntropy(self,root):\n",
    "        if root.leaf:\n",
    "            # weighted by number of data for pruning\n",
    "            return root.numData * root.entropy(root.datas) \n",
    "        else:\n",
    "            return sum([self.leafEntropy(child) for child in root.children.values()])\n",
    "    \n",
    "    # depth of a tree, leaf as depth 1\n",
    "    def treeDepth(self,root):\n",
    "        if root.leaf:\n",
    "            return 1\n",
    "        else:\n",
    "            return max([self.treeDepth(child) for child in root.children.values()]) + 1\n",
    "    \n",
    "    # check if prune to this node by comparing \n",
    "    # overall loss(with leaf number regularization)\n",
    "    def pruneToLeaf(self,root,a):\n",
    "        # a is penalty parameter\n",
    "        selfEntropy = root.numData * root.entropy(root.datas)\n",
    "        numLeaf = numOfLeaf(root)\n",
    "        leafEntro = leafEntropy(root)\n",
    "        if selfEntropy + 1*a < leafEntro + numLeaf*a:\n",
    "            root.children = defaultdict(Node)\n",
    "            root.leaf = True\n",
    "            root.split_attr = 'leaf'\n",
    "    \n",
    "    # bottom-up recurisively pruning\n",
    "    ## Note: (1) top-down won't work here since the tree is overfit\n",
    "    ##       during the generation, the over-all cost will be high\n",
    "    ##       could easily be prune by upper node, while best tree \n",
    "    ##       should be somewhere in between.\n",
    "    ##       (2) checking over-all cost when growing the tree might\n",
    "    ##       short-sighted, missing good split after current split\n",
    "    \n",
    "    def prune(self,root,a):\n",
    "        if root.leaf:\n",
    "            parent = root.parent\n",
    "            while(parent):\n",
    "                pruneToLeaf(parent,a)\n",
    "                parent = parent.parent\n",
    "        else:\n",
    "            # all way down to leaf\n",
    "            [prune(child,a) for child in root.children.values()]\n",
    "    \n",
    "    # inference test data, return label\n",
    "    def predict(self,root,infer):\n",
    "        if root.leaf:\n",
    "            c = root.distribute(root.datas)\n",
    "            return max(c,key=c.get)\n",
    "        else:\n",
    "            root = root.children[infer[root.split_attr]]\n",
    "            return self.predict(root,infer)\n"
   ]
  },
  {
   "cell_type": "code",
   "execution_count": 635,
   "metadata": {},
   "outputs": [],
   "source": [
    "## Plotting methods\n",
    "import matplotlib.pyplot as plt\n",
    "import matplotlib as mpl\n",
    "\n",
    "decisionNode = dict(boxstyle=\"round\",color='#FF4040')\n",
    "leafNode = dict(boxstyle=\"square\",color='#7FFF00')\n",
    "arrow_args = dict(arrowstyle=\"<-\", color = '#FF8C00')\n",
    "    \n",
    "def plotNode(nodeTxt, centerPt, parentPt, nodeType):\n",
    "    createPlot.ax1.annotate(nodeTxt, xy=parentPt,xycoords='axes fraction', \n",
    "             xytext=centerPt, textcoords='axes fraction', \n",
    "            va=\"center\", ha=\"center\", bbox=nodeType, arrowprops=arrow_args)\n",
    "\n",
    "def plotMidText(cntrPt, parentPt, txtString):\n",
    "    xMid = (parentPt[0] - cntrPt[0]) / 2.0 + cntrPt[0]\n",
    "    yMid = (parentPt[1] - cntrPt[1]) / 2.0 + cntrPt[1]\n",
    "    createPlot.ax1.text(xMid, yMid, txtString, va=\"center\", ha=\"center\", rotation=30)"
   ]
  },
  {
   "cell_type": "code",
   "execution_count": 636,
   "metadata": {},
   "outputs": [],
   "source": [
    "def plotTree(root, parentPt, nodeTxt):\n",
    "    # dynamically range the position of subtree\n",
    "    numLeafs = numOfLeaf(root)\n",
    "    # place current node in the middle of it children\n",
    "    cntrPt = (plotTree.xOff + (1.0 + float(numLeafs))/2.0/plotTree.totalW,plotTree.yOff)\n",
    "    plotMidText(cntrPt, parentPt, nodeTxt)\n",
    "    plotNode(attr_index[root.split_attr], cntrPt, parentPt, decisionNode)\n",
    "    children = root.children\n",
    "    plotTree.yOff = plotTree.yOff - 1.0/plotTree.totalD\n",
    "    for key in children.keys():\n",
    "        if children[key].leaf:\n",
    "            plotTree.xOff = plotTree.xOff + 1.0/plotTree.totalW\n",
    "            plotNode(label_index[children[key].majorVote()], (plotTree.xOff, plotTree.yOff),cntrPt, leafNode)\n",
    "            plotMidText((plotTree.xOff, plotTree.yOff), cntrPt, str(key))\n",
    "            \n",
    "        else:\n",
    "            plotTree(children[key],cntrPt,str(key))\n",
    "    plotTree.yOff = plotTree.yOff + 1.0/plotTree.totalD\n",
    "    \n",
    "def createPlot(root,model):\n",
    "    fig = plt.figure(1, facecolor='white')\n",
    "    fig.clf()\n",
    "    axprops = dict(xticks=[], yticks=[])\n",
    "    createPlot.ax1 = plt.subplot(111, frameon=False, **axprops)\n",
    "    plotTree.totalW = float(model.numOfLeaf(root))\n",
    "    plotTree.totalD = float(model.treeDepth(root))\n",
    "    plotTree.xOff = -0.5/plotTree.totalW; plotTree.yOff = 1.0;\n",
    "    plotTree(root, (0.5,1.0), '')\n",
    "    plt.show()"
   ]
  },
  {
   "cell_type": "markdown",
   "metadata": {},
   "source": [
    "### Build Tree"
   ]
  },
  {
   "cell_type": "code",
   "execution_count": 637,
   "metadata": {},
   "outputs": [],
   "source": [
    "attributes = [0,1,2,3]\n",
    "root = Node(attributes,data_table,None,1)\n",
    "id3 = ID3(attr_index)\n",
    "id3.buildTree(root)"
   ]
  },
  {
   "cell_type": "code",
   "execution_count": 638,
   "metadata": {},
   "outputs": [
    {
     "name": "stdout",
     "output_type": "stream",
     "text": [
      "Node: Credit at height 1 Labels: {0: 7, 1: 11}\n",
      "Node: Work at height 2 Labels: {0: 4, 1: 2}\n",
      "Node: Age at height 3 Labels: {0: 4, 1: 1}\n",
      "Node: leaf at height 4 Labels: {0: 2}\n",
      "Node: House at height 4 Labels: {0: 1, 1: 1}\n",
      "Node: leaf at height 5 Labels: {0: 1, 1: 1}\n",
      "Node: leaf at height 4 Labels: {0: 1}\n",
      "Node: leaf at height 3 Labels: {1: 1}\n",
      "Node: Age at height 2 Labels: {0: 3, 1: 4}\n",
      "Node: Work at height 3 Labels: {0: 2, 1: 1}\n",
      "Node: leaf at height 4 Labels: {0: 1}\n",
      "Node: House at height 4 Labels: {0: 1, 1: 1}\n",
      "Node: leaf at height 5 Labels: {1: 1}\n",
      "Node: leaf at height 5 Labels: {0: 1}\n",
      "Node: Work at height 3 Labels: {0: 1, 1: 1}\n",
      "Node: leaf at height 4 Labels: {0: 1}\n",
      "Node: leaf at height 4 Labels: {1: 1}\n",
      "Node: leaf at height 3 Labels: {1: 2}\n",
      "Node: leaf at height 2 Labels: {1: 5}\n"
     ]
    },
    {
     "data": {
      "image/png": "[encoded data removed]",
      "text/plain": [
       "<matplotlib.figure.Figure at 0x106902ef0>"
      ]
     },
     "metadata": {},
     "output_type": "display_data"
    }
   ],
   "source": [
    "id3.printTree(root)\n",
    "createPlot(root,id3)"
   ]
  },
  {
   "cell_type": "markdown",
   "metadata": {},
   "source": [
    "### Prune Tree"
   ]
  },
  {
   "cell_type": "code",
   "execution_count": 639,
   "metadata": {},
   "outputs": [],
   "source": [
    "id3.prune(root,1)"
   ]
  },
  {
   "cell_type": "code",
   "execution_count": 640,
   "metadata": {},
   "outputs": [
    {
     "name": "stdout",
     "output_type": "stream",
     "text": [
      "Node: Credit at height 1 Labels: {0: 7, 1: 11}\n",
      "Node: Work at height 2 Labels: {0: 4, 1: 2}\n",
      "Node: leaf at height 3 Labels: {0: 4, 1: 1}\n",
      "Node: leaf at height 3 Labels: {1: 1}\n",
      "Node: leaf at height 2 Labels: {0: 3, 1: 4}\n",
      "Node: leaf at height 2 Labels: {1: 5}\n"
     ]
    }
   ],
   "source": [
    "id3.printTree(root)"
   ]
  },
  {
   "cell_type": "code",
   "execution_count": 641,
   "metadata": {},
   "outputs": [
    {
     "data": {
      "image/png": "[encoded data removed]",
      "text/plain": [
       "<matplotlib.figure.Figure at 0x106fb8390>"
      ]
     },
     "metadata": {},
     "output_type": "display_data"
    }
   ],
   "source": [
    "createPlot(root,id3)"
   ]
  },
  {
   "cell_type": "markdown",
   "metadata": {},
   "source": [
    "### Inference"
   ]
  },
  {
   "cell_type": "code",
   "execution_count": 642,
   "metadata": {},
   "outputs": [
    {
     "name": "stdout",
     "output_type": "stream",
     "text": [
      "predict :  No\n"
     ]
    }
   ],
   "source": [
    "test = [0,0,0,0]\n",
    "infer = id3.predict(root,test)\n",
    "print('predict : ',label_index[infer])"
   ]
  }
 ],
 "metadata": {
  "kernelspec": {
   "display_name": "Python 3",
   "language": "python",
   "name": "python3"
  },
  "language_info": {
   "codemirror_mode": {
    "name": "ipython",
    "version": 3
   },
   "file_extension": ".py",
   "mimetype": "text/x-python",
   "name": "python",
   "nbconvert_exporter": "python",
   "pygments_lexer": "ipython3",
   "version": "3.5.1"
  }
 },
 "nbformat": 4,
 "nbformat_minor": 2
}
