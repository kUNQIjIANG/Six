{
 "cells": [
  {
   "cell_type": "code",
   "execution_count": 8,
   "metadata": {},
   "outputs": [],
   "source": [
    "# An  viterbi algorithm is technique for finding \n",
    "# the most likelihood hidden state sequence \n",
    "# given the observation sequence and transition matrix\n",
    "import numpy as np \n",
    "import scipy.io \n",
    "mat = scipy.io.loadmat('BearBullproblem.mat')\n",
    "bull_matrix = mat['pbull']\n",
    "bear_matrix = mat['pbear']\n",
    "prices = mat['p'][0]"
   ]
  },
  {
   "cell_type": "code",
   "execution_count": 29,
   "metadata": {},
   "outputs": [
    {
     "name": "stdout",
     "output_type": "stream",
     "text": [
      "(1.5593523699168273e-308, ['bear', 'bear', 'bear', 'bear', 'bear', 'bear', 'bear', 'bear', 'bear', 'bear', 'bear', 'bear', 'bear', 'bear', 'bear', 'bear', 'bear', 'bear', 'bear', 'bear', 'bull', 'bull', 'bull', 'bull', 'bull', 'bear', 'bear', 'bull', 'bull', 'bear', 'bear', 'bear', 'bear', 'bear', 'bear', 'bear', 'bull', 'bull', 'bull', 'bull', 'bear', 'bear', 'bear', 'bear', 'bear', 'bear', 'bear', 'bear', 'bear', 'bear', 'bear', 'bear', 'bull', 'bull', 'bear', 'bear', 'bear', 'bull', 'bull', 'bear', 'bear', 'bear', 'bear', 'bear', 'bull', 'bull', 'bull', 'bull', 'bear', 'bear', 'bear', 'bear', 'bear', 'bear', 'bear', 'bear', 'bear', 'bear', 'bear', 'bear', 'bear', 'bear', 'bear', 'bear', 'bear', 'bear', 'bear', 'bear', 'bull', 'bull', 'bull', 'bull', 'bull', 'bull', 'bear', 'bear', 'bear', 'bear', 'bear', 'bear', 'bear', 'bear', 'bear', 'bear', 'bear', 'bull', 'bull', 'bear', 'bear', 'bear', 'bear', 'bear', 'bear', 'bear', 'bear', 'bear', 'bull', 'bull', 'bull', 'bull', 'bull', 'bear', 'bear', 'bear', 'bear', 'bear', 'bear', 'bear', 'bear', 'bear', 'bear', 'bear', 'bear', 'bear', 'bear', 'bear', 'bull', 'bull', 'bull', 'bull', 'bull', 'bear', 'bear', 'bear', 'bear', 'bear', 'bear', 'bear', 'bear', 'bear', 'bull', 'bull', 'bull', 'bull', 'bear', 'bear', 'bull', 'bull', 'bear', 'bear', 'bear', 'bear', 'bear', 'bear', 'bear', 'bear', 'bear', 'bear', 'bear', 'bear', 'bear', 'bear', 'bear', 'bear', 'bear', 'bear', 'bear', 'bear', 'bear', 'bear', 'bear', 'bear', 'bear', 'bear', 'bear', 'bear', 'bear', 'bear', 'bear', 'bear', 'bear', 'bear', 'bear', 'bull', 'bull', 'bull', 'bull', 'bull', 'bull', 'bull'])\n"
     ]
    }
   ],
   "source": [
    "# state trainsition matrix\n",
    "states = ['bull', 'bear']\n",
    "state_trans = {'bull':{'bull': 0.7, 'bear': 0.3 }, \n",
    "               'bear':{'bull': 0.2, 'bear': 0.8 }}\n",
    "price_trans = {'bull': bull_matrix, 'bear':bear_matrix}\n",
    "\n",
    "#for first we assume states and prices are uniformly distributed\n",
    "def viterbi(observations,states,state_trans,prob_matrix):\n",
    "    time_step = [{}]\n",
    "    path = {}\n",
    "    \n",
    "    for state in states:\n",
    "        time_step[0][state] = 1/float(len(states)) * 1/float(len(bull_matrix[0]))\n",
    "        path[state] = [state]\n",
    "        \n",
    "    for t in range(1,len(observations)):\n",
    "        new_path = {}\n",
    "        time_step.append({})\n",
    "        for state in states:\n",
    "            #probability from previous step * state transition * price transition with corresponding previous state and current state\n",
    "            (prob, possib_state) = max([(time_step[t-1][pre_s]*state_trans[pre_s][state]*prob_matrix[state][observations[t]][observations[t-1]],pre_s) for pre_s in states])\n",
    "            time_step[t][state] = prob\n",
    "            new_path[state] = path[possib_state] + [state]\n",
    "        path = new_path\n",
    "    \n",
    "    (prob, most_lik_last_state) = max([(time_step[len(observations)-1][state],state) for state in states])\n",
    "    return (prob, path[most_lik_last_state])\n",
    "\n",
    "print(viterbi(prices,states,state_trans,price_trans))"
   ]
  }
 ],
 "metadata": {
  "kernelspec": {
   "display_name": "Python 3",
   "language": "python",
   "name": "python3"
  },
  "language_info": {
   "codemirror_mode": {
    "name": "ipython",
    "version": 3
   },
   "file_extension": ".py",
   "mimetype": "text/x-python",
   "name": "python",
   "nbconvert_exporter": "python",
   "pygments_lexer": "ipython3",
   "version": "3.5.1"
  }
 },
 "nbformat": 4,
 "nbformat_minor": 2
}
