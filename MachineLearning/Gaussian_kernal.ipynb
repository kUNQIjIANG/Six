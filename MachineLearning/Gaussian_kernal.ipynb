{
 "cells": [
  {
   "cell_type": "code",
   "execution_count": 1,
   "metadata": {},
   "outputs": [],
   "source": [
    "# exercise 8\n",
    "import scipy.io\n",
    "boston = scipy.io.loadmat('boston.mat')"
   ]
  },
  {
   "cell_type": "code",
   "execution_count": 5,
   "metadata": {},
   "outputs": [
    {
     "data": {
      "text/plain": [
       "dict_keys(['__globals__', '__version__', '__header__', 'boston'])"
      ]
     },
     "execution_count": 5,
     "metadata": {},
     "output_type": "execute_result"
    }
   ],
   "source": [
    "boston.keys()"
   ]
  },
  {
   "cell_type": "code",
   "execution_count": 8,
   "metadata": {},
   "outputs": [],
   "source": [
    "data = boston['boston']"
   ]
  },
  {
   "cell_type": "code",
   "execution_count": 30,
   "metadata": {},
   "outputs": [],
   "source": [
    "feature = data[:,:data.shape[1]-1] # first 13 column as feature"
   ]
  },
  {
   "cell_type": "code",
   "execution_count": 35,
   "metadata": {},
   "outputs": [],
   "source": [
    "target = data[:,-1]"
   ]
  },
  {
   "cell_type": "code",
   "execution_count": 64,
   "metadata": {},
   "outputs": [],
   "source": [
    "from sklearn.utils import shuffle"
   ]
  },
  {
   "cell_type": "code",
   "execution_count": 65,
   "metadata": {},
   "outputs": [],
   "source": [
    "x,y = shuffle(feature, target)"
   ]
  },
  {
   "cell_type": "code",
   "execution_count": 66,
   "metadata": {},
   "outputs": [
    {
     "data": {
      "text/plain": [
       "((506, 13), (506,))"
      ]
     },
     "execution_count": 66,
     "metadata": {},
     "output_type": "execute_result"
    }
   ],
   "source": [
    "x.shape, y.shape"
   ]
  },
  {
   "cell_type": "code",
   "execution_count": 78,
   "metadata": {},
   "outputs": [
    {
     "data": {
      "text/plain": [
       "336"
      ]
     },
     "execution_count": 78,
     "metadata": {},
     "output_type": "execute_result"
    }
   ],
   "source": [
    "num_train = 2 * int(x.shape[0] / 3)\n",
    "num_train"
   ]
  },
  {
   "cell_type": "code",
   "execution_count": 80,
   "metadata": {},
   "outputs": [],
   "source": [
    "train_feature = x[:num_train]\n",
    "train_target = y[:num_train]\n",
    "test_feature = x[num_train:]\n",
    "test_target = y[num_train:]"
   ]
  },
  {
   "cell_type": "code",
   "execution_count": 167,
   "metadata": {},
   "outputs": [],
   "source": [
    "def error2MSE(err):\n",
    "    return err @ err / len(err)"
   ]
  },
  {
   "cell_type": "code",
   "execution_count": 168,
   "metadata": {},
   "outputs": [
    {
     "name": "stdout",
     "output_type": "stream",
     "text": [
      "Naive_MSE_train: 88.8586617772\n",
      "Naive_MSE_test: 76.5381757578\n"
     ]
    }
   ],
   "source": [
    "# exercise 9\n",
    "# (a)\n",
    "# Using naive regression, by taking derivative, we know the constant should \n",
    "# the mean of of y\n",
    "num_train = train_target.shape[0]\n",
    "const = np.sum(train_target) / num_train\n",
    "train_predict = const * np.ones_like(train_target)\n",
    "test_predict = const * np.ones_like(test_target)\n",
    "train_error = train_target - train_predict\n",
    "test_error = test_target - test_predict\n",
    "MSE_train = error2MSE(train_error)\n",
    "MSE_test = error2MSE(test_error)\n",
    "print(\"Naive_MSE_train:\", MSE_train)\n",
    "print(\"Naive_MSE_test:\", MSE_test)"
   ]
  },
  {
   "cell_type": "code",
   "execution_count": 169,
   "metadata": {},
   "outputs": [],
   "source": [
    "#(b) single attri\n",
    "def single_lse(x,y):\n",
    "    mean_x = np.sum(x) / len(x)\n",
    "    mean_y = np.sum(y) / len(y)\n",
    "    w = ((y - mean_y) @ x) / ((x - mean_x) @ x)\n",
    "    b = mean_y - w * mean_x\n",
    "    return w, b"
   ]
  },
  {
   "cell_type": "code",
   "execution_count": 171,
   "metadata": {},
   "outputs": [
    {
     "name": "stdout",
     "output_type": "stream",
     "text": [
      "att_0\n",
      "single_att_MSE_train: 75.7507786261\n",
      "single_att_MSE_test: 65.5475928209\n",
      "att_1\n",
      "single_att_MSE_train: 76.9441273315\n",
      "single_att_MSE_test: 67.3967444525\n",
      "att_2\n",
      "single_att_MSE_train: 69.5024037748\n",
      "single_att_MSE_test: 55.3605079671\n",
      "att_3\n",
      "single_att_MSE_train: 86.6211147926\n",
      "single_att_MSE_test: 73.1895214669\n",
      "att_4\n",
      "single_att_MSE_train: 74.8169365155\n",
      "single_att_MSE_test: 57.937640627\n",
      "att_5\n",
      "single_att_MSE_train: 43.3386473018\n",
      "single_att_MSE_test: 44.4156563386\n",
      "att_6\n",
      "single_att_MSE_train: 77.2843217393\n",
      "single_att_MSE_test: 63.279051221\n",
      "att_7\n",
      "single_att_MSE_train: 83.9873550579\n",
      "single_att_MSE_test: 70.3605720879\n",
      "att_8\n",
      "single_att_MSE_train: 76.8584985351\n",
      "single_att_MSE_test: 63.3670921437\n",
      "att_9\n",
      "single_att_MSE_train: 69.549278745\n",
      "single_att_MSE_test: 59.1696459882\n",
      "att_10\n",
      "single_att_MSE_train: 63.1822730883\n",
      "single_att_MSE_test: 62.4917238894\n",
      "att_11\n",
      "single_att_MSE_train: 80.5027022331\n",
      "single_att_MSE_test: 64.9216158238\n",
      "att_12\n",
      "single_att_MSE_train: 42.8236075434\n",
      "single_att_MSE_test: 29.994154883\n"
     ]
    }
   ],
   "source": [
    "att_num = train_feature.shape[1]\n",
    "for i in range(att_num):\n",
    "    train_att = train_feature[:,i]\n",
    "    test_att = test_feature[:,i]\n",
    "    w, b = single_lse(train_att, train_target)\n",
    "    train_error = train_target - (train_att * w + b)\n",
    "    MSE_train = error2MSE(train_error)\n",
    "    test_error = test_target - (test_att * w + b)\n",
    "    MSE_test = error2MSE(test_error)\n",
    "    print(\"att_\" + str(i))\n",
    "    print(\"single_att_MSE_train:\", MSE_train)\n",
    "    print(\"single_att_MSE_test:\", MSE_test)"
   ]
  },
  {
   "cell_type": "code",
   "execution_count": 194,
   "metadata": {},
   "outputs": [],
   "source": [
    "# (c) all attributes\n",
    "# using ridge regression with adding a bias term\n",
    "col_bias = np.ones((train_feature.shape[0],1))\n",
    "tf_with_bias = np.concatenate((train_feature,col_bias),axis = 1)\n",
    "\n",
    "def ridgereg(fea_mtx, y_label, regu, num_p):\n",
    "    return np.linalg.inv((fea_mtx.transpose() @ fea_mtx + regu * num_p * np.identity(fea_mtx.shape[1]))) @ fea_mtx.transpose() @ y_label\n",
    "    \n",
    "w = ridgereg(tf_with_bias, train_target, 1e-3, len(train_target))"
   ]
  },
  {
   "cell_type": "code",
   "execution_count": 195,
   "metadata": {},
   "outputs": [
    {
     "data": {
      "text/plain": [
       "array([ -6.48456806e-02,   4.83367253e-02,   5.17109176e-02,\n",
       "         2.15582023e+00,  -9.46554297e+00,   4.96102477e+00,\n",
       "        -9.15316395e-03,  -1.23046476e+00,   2.93864702e-01,\n",
       "        -1.46129302e-02,  -7.27448587e-01,   1.12032806e-02,\n",
       "        -4.92431958e-01,   1.97420291e+01])"
      ]
     },
     "execution_count": 195,
     "metadata": {},
     "output_type": "execute_result"
    }
   ],
   "source": [
    "w"
   ]
  },
  {
   "cell_type": "code",
   "execution_count": 196,
   "metadata": {},
   "outputs": [
    {
     "name": "stdout",
     "output_type": "stream",
     "text": [
      "all_att_train_MSE 42.8236075434\n",
      "all_att_test_MSE 20.4081481761\n"
     ]
    }
   ],
   "source": [
    "train_error = train_target - tf_with_bias @ w\n",
    "MSE_trian = error2MSE(train_error)\n",
    "test_bias_col = np.ones((test_feature.shape[0],1))\n",
    "test_f_with_bias = np.concatenate((test_feature,test_bias_col),axis=1)\n",
    "test_error = test_target - test_f_with_bias @ w\n",
    "MSE_test = error2MSE(test_error)\n",
    "print(\"all_att_train_MSE\", MSE_train)\n",
    "print(\"all_att_test_MSE\", MSE_test)"
   ]
  },
  {
   "cell_type": "code",
   "execution_count": 81,
   "metadata": {},
   "outputs": [],
   "source": [
    "def kridgereg(kernal_matrix, y, r):\n",
    "    # y is train label\n",
    "    # r is regulazor\n",
    "    # return the dual weight vector alpha\n",
    "    # where w = X' * alpha\n",
    "    dia = len(y)\n",
    "    n = kernal_matrix.shape[0] # num of data points\n",
    "    return np.linalg.inv(kernal_matrix + n * r * np.identity(dia)) @ y"
   ]
  },
  {
   "cell_type": "code",
   "execution_count": null,
   "metadata": {},
   "outputs": [],
   "source": [
    "def dualcost(kernal_matrix, y, dual_a):\n",
    "    # the square error of test set\n",
    "    # given the kernal matrix by kernal funtion between\n",
    "    # test set matrix and train_set matrix -- K(test,train)\n",
    "    error = kernal_matrix @ dual_a - y\n",
    "    return error @ error / len(error)"
   ]
  },
  {
   "cell_type": "code",
   "execution_count": null,
   "metadata": {},
   "outputs": [],
   "source": [
    "def gaussian_function(x,x_,sig):\n",
    "    dis = (x - x_) @ (x - x_)\n",
    "    return np.exp(-dis/(2* sig ** 2))"
   ]
  },
  {
   "cell_type": "code",
   "execution_count": null,
   "metadata": {},
   "outputs": [],
   "source": [
    "def gaussian_kernal(matrx_1, matrx_2, sig):\n",
    "    # with size row of m_1 col of m2\n",
    "    gaus_kernal = np.zeros((matrx_1.shape[0], matrx_2.shape[1]))\n",
    "    for i in range(matrx_1.shape[0]):\n",
    "        for j in range(matrx_2.shape[1]):\n",
    "            gaus_kernal[i,j] = gaussian_function(matrx_1[i], matrx_2[:,j], sig)\n",
    "    return gaus_kernal\n"
   ]
  },
  {
   "cell_type": "code",
   "execution_count": 139,
   "metadata": {},
   "outputs": [],
   "source": [
    "import matplotlib.pyplot as plt\n",
    "from matplotlib import cm\n",
    "from mpl_toolkits.mplot3d import Axes3D\n",
    "regs = []\n",
    "sigs = []\n",
    "costs = []\n",
    "for r in range(26,40):\n",
    "    for sig in np.arange(7,13.5,0.5):\n",
    "        regs.append(r)\n",
    "        sigs.append(sig)\n",
    "        kern = gaussian_kernal(train_feature, train_feature.transpose(), 2**sig)\n",
    "        dual_a = kridgereg(kern, train_target, 2**(-r))\n",
    "        test_kern = gaussian_kernal(test_feature, train_feature.transpose(), 2**sig)\n",
    "        costs.append(dualcost(test_kern, test_target, dual_a))\n",
    "    #plt.plot(sig_set, cost_set)\n",
    "    #plt.title(\"r:\" + str(r) + \" sig:\" + str(sig))\n",
    "    #plt.show()\n",
    "    "
   ]
  },
  {
   "cell_type": "code",
   "execution_count": 140,
   "metadata": {},
   "outputs": [
    {
     "data": {
      "image/png": "[encoded data removed]",
      "text/plain": [
       "<matplotlib.figure.Figure at 0x109a052b0>"
      ]
     },
     "metadata": {},
     "output_type": "display_data"
    }
   ],
   "source": [
    "fig = plt.figure()\n",
    "ax = fig.add_subplot(111,projection = '3d')\n",
    "ax.scatter(regs,sigs,costs, c='r',marker='o', label=\"dualcost\")\n",
    "ax.set_xlabel('reg')\n",
    "ax.set_ylabel('sig')\n",
    "ax.set_zlabel('cost')\n",
    "plt.legend()\n",
    "plt.show()"
   ]
  },
  {
   "cell_type": "code",
   "execution_count": 189,
   "metadata": {},
   "outputs": [
    {
     "data": {
      "text/plain": [
       "(27, 9.0)"
      ]
     },
     "execution_count": 189,
     "metadata": {},
     "output_type": "execute_result"
    }
   ],
   "source": [
    "m = np.argmin(costs)\n",
    "reg = regs[m]\n",
    "sig = sigs[m]\n",
    "reg,sig"
   ]
  },
  {
   "cell_type": "code",
   "execution_count": 199,
   "metadata": {},
   "outputs": [
    {
     "name": "stdout",
     "output_type": "stream",
     "text": [
      "kernal_ridge_train_MSE 8.45798142947\n",
      "kernal_ridge_test_MSE 10.4157444502\n"
     ]
    }
   ],
   "source": [
    "kern = gaussian_kernal(train_feature, train_feature.transpose(), 2**sig)\n",
    "dual_a = kridgereg(kern, train_target, 2**(-reg))\n",
    "test_kern = gaussian_kernal(test_feature, train_feature.transpose(), 2**sig)\n",
    "test_MSE = dualcost(test_kern, test_target, dual_a)\n",
    "train_MSE = dualcost(kern, train_target, dual_a)\n",
    "print(\"kernal_ridge_train_MSE\", train_MSE)\n",
    "print(\"kernal_ridge_test_MSE\", test_MSE)"
   ]
  }
 ],
 "metadata": {
  "kernelspec": {
   "display_name": "Python 3",
   "language": "python",
   "name": "python3"
  },
  "language_info": {
   "codemirror_mode": {
    "name": "ipython",
    "version": 3
   },
   "file_extension": ".py",
   "mimetype": "text/x-python",
   "name": "python",
   "nbconvert_exporter": "python",
   "pygments_lexer": "ipython3",
   "version": "3.5.1"
  }
 },
 "nbformat": 4,
 "nbformat_minor": 2
}
