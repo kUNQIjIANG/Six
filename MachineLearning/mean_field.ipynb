{
 "cells": [
  {
   "cell_type": "code",
   "execution_count": 1,
   "metadata": {},
   "outputs": [],
   "source": [
    "# This file is using mean field approximation to solve this problem:\n",
    "# Consider the Ising model on the n × n lattice as in Exercise 6.7 \n",
    "# from [3] with the potentials modified to include a temperature-like \n",
    "# parameter β: P(x) = Z−1  i>j φ(xi,xj) with φ(xi,xj) = eβI[xi=xj] \n",
    "# for i a neighbour of j on a lattice and i > j (to avoid overcounting).\n",
    "# You will need to compute the joint probability distribution of the top \n",
    "# and bot- tom nodes of the rightmost column of the 10 × 10 lattice. \n",
    "# If xi,j is the node in i-th row and j-th column, that would be nodes \n",
    "# x1,10 and x10,10, so you need to provide the probability table for \n",
    "# P(x1,10,x10,10). You have to do it for the threevaluesof β: β=4,β=1andβ=0.01. "
   ]
  },
  {
   "cell_type": "code",
   "execution_count": 1,
   "metadata": {},
   "outputs": [],
   "source": [
    "import numpy as np\n",
    "def coordinateAscend(an):\n",
    "    # in problem setting, the update function become a sigmoid\n",
    "    return np.exp(an) / (1 + np.exp(an))"
   ]
  },
  {
   "cell_type": "code",
   "execution_count": 2,
   "metadata": {},
   "outputs": [],
   "source": [
    "def mean_field_coordinate_ascend(beta, iteration, n):\n",
    "    # I do zero padding so that I can easily perform neighbour interaction\n",
    "    # in the same way as adding zero value does not effect the result\n",
    "    field = np.random.uniform(0,1,(n+2,n+2))\n",
    "    field[:,0] = 0\n",
    "    field[:,-1] = 0\n",
    "    field[0,:] = 0\n",
    "    field[-1,:] = 0\n",
    "    for i in range(iteration):\n",
    "        for j in range(1,n+1):\n",
    "            for k in range(1,n+1):\n",
    "                an = beta * (field[j-1,k] + field[j+1,k] + field[j,k-1] + field[j,k+1])\n",
    "                field[j,k] = coordinateAscend(an)\n",
    "    return field"
   ]
  },
  {
   "cell_type": "code",
   "execution_count": 3,
   "metadata": {},
   "outputs": [
    {
     "data": {
      "text/plain": [
       "array([[ 0.86814361,  0.94232189,  0.94627638,  0.94647863,  0.94648891,\n",
       "         0.94648891,  0.94647863,  0.94627638,  0.94232189,  0.86814361],\n",
       "       [ 0.94232189,  0.97904923,  0.97988147,  0.97990213,  0.97990274,\n",
       "         0.97990274,  0.97990213,  0.97988147,  0.97904923,  0.94232189],\n",
       "       [ 0.94627638,  0.97988147,  0.98056236,  0.98057599,  0.98057626,\n",
       "         0.98057626,  0.98057599,  0.98056236,  0.97988147,  0.94627638],\n",
       "       [ 0.94647863,  0.97990213,  0.98057599,  0.98058934,  0.9805896 ,\n",
       "         0.9805896 ,  0.98058934,  0.98057599,  0.97990213,  0.94647863],\n",
       "       [ 0.94648891,  0.97990274,  0.98057626,  0.9805896 ,  0.98058986,\n",
       "         0.98058986,  0.9805896 ,  0.98057626,  0.97990274,  0.94648891],\n",
       "       [ 0.94648891,  0.97990274,  0.98057626,  0.9805896 ,  0.98058986,\n",
       "         0.98058986,  0.9805896 ,  0.98057626,  0.97990274,  0.94648891],\n",
       "       [ 0.94647863,  0.97990213,  0.98057599,  0.98058934,  0.9805896 ,\n",
       "         0.9805896 ,  0.98058934,  0.98057599,  0.97990213,  0.94647863],\n",
       "       [ 0.94627638,  0.97988147,  0.98056236,  0.98057599,  0.98057626,\n",
       "         0.98057626,  0.98057599,  0.98056236,  0.97988147,  0.94627638],\n",
       "       [ 0.94232189,  0.97904923,  0.97988147,  0.97990213,  0.97990274,\n",
       "         0.97990274,  0.97990213,  0.97988147,  0.97904923,  0.94232189],\n",
       "       [ 0.86814361,  0.94232189,  0.94627638,  0.94647863,  0.94648891,\n",
       "         0.94648891,  0.94647863,  0.94627638,  0.94232189,  0.86814361]])"
      ]
     },
     "execution_count": 3,
     "metadata": {},
     "output_type": "execute_result"
    }
   ],
   "source": [
    "mean_field = mean_field_coordinate_ascend(1,1000,10)[1:11,1:11]\n",
    "mean_field"
   ]
  },
  {
   "cell_type": "code",
   "execution_count": 4,
   "metadata": {},
   "outputs": [],
   "source": [
    "def get_prob(mean_field):\n",
    "    joint_prob = np.zeros((2,2))\n",
    "    joint_prob[0,0] = (1-mean_field[0,9]) * (1-mean_field[0,9])\n",
    "    joint_prob[0,1] = (1-mean_field[0,9]) * mean_field[0,9]\n",
    "    joint_prob[1,0] = mean_field[0,9] * (1-mean_field[0,9])\n",
    "    joint_prob[1,1] = mean_field[0,9] * mean_field[0,9]\n",
    "    return joint_prob"
   ]
  },
  {
   "cell_type": "code",
   "execution_count": 5,
   "metadata": {},
   "outputs": [
    {
     "data": {
      "text/plain": [
       "1.0"
      ]
     },
     "execution_count": 5,
     "metadata": {},
     "output_type": "execute_result"
    }
   ],
   "source": [
    "np.sum(get_prob(mean_field))"
   ]
  },
  {
   "cell_type": "code",
   "execution_count": 6,
   "metadata": {},
   "outputs": [
    {
     "data": {
      "text/plain": [
       "array([[ 0.50251887,  0.50377829,  0.50378145,  0.50378145,  0.50378145,\n",
       "         0.50378145,  0.50378145,  0.50378145,  0.50377829,  0.50251887],\n",
       "       [ 0.50377829,  0.50504396,  0.50504714,  0.50504714,  0.50504714,\n",
       "         0.50504714,  0.50504714,  0.50504714,  0.50504396,  0.50377829],\n",
       "       [ 0.50378145,  0.50504714,  0.50505032,  0.50505032,  0.50505032,\n",
       "         0.50505032,  0.50505032,  0.50505032,  0.50504714,  0.50378145],\n",
       "       [ 0.50378145,  0.50504714,  0.50505032,  0.50505033,  0.50505033,\n",
       "         0.50505033,  0.50505033,  0.50505032,  0.50504714,  0.50378145],\n",
       "       [ 0.50378145,  0.50504714,  0.50505032,  0.50505033,  0.50505033,\n",
       "         0.50505033,  0.50505033,  0.50505032,  0.50504714,  0.50378145],\n",
       "       [ 0.50378145,  0.50504714,  0.50505032,  0.50505033,  0.50505033,\n",
       "         0.50505033,  0.50505033,  0.50505032,  0.50504714,  0.50378145],\n",
       "       [ 0.50378145,  0.50504714,  0.50505032,  0.50505033,  0.50505033,\n",
       "         0.50505033,  0.50505033,  0.50505032,  0.50504714,  0.50378145],\n",
       "       [ 0.50378145,  0.50504714,  0.50505032,  0.50505032,  0.50505032,\n",
       "         0.50505032,  0.50505032,  0.50505032,  0.50504714,  0.50378145],\n",
       "       [ 0.50377829,  0.50504396,  0.50504714,  0.50504714,  0.50504714,\n",
       "         0.50504714,  0.50504714,  0.50504714,  0.50504396,  0.50377829],\n",
       "       [ 0.50251887,  0.50377829,  0.50378145,  0.50378145,  0.50378145,\n",
       "         0.50378145,  0.50378145,  0.50378145,  0.50377829,  0.50251887]])"
      ]
     },
     "execution_count": 6,
     "metadata": {},
     "output_type": "execute_result"
    }
   ],
   "source": [
    "mean_field = mean_field_coordinate_ascend(0.01,1000,10)[1:11,1:11]\n",
    "mean_field"
   ]
  },
  {
   "cell_type": "code",
   "execution_count": 7,
   "metadata": {},
   "outputs": [
    {
     "data": {
      "text/plain": [
       "1.0"
      ]
     },
     "execution_count": 7,
     "metadata": {},
     "output_type": "execute_result"
    }
   ],
   "source": [
    "np.sum(get_prob(mean_field))"
   ]
  },
  {
   "cell_type": "code",
   "execution_count": 8,
   "metadata": {},
   "outputs": [
    {
     "data": {
      "text/plain": [
       "array([[ 0.99966463,  0.99999385,  0.99999386,  0.99999386,  0.99999386,\n",
       "         0.99999386,  0.99999386,  0.99999386,  0.99999385,  0.99966463],\n",
       "       [ 0.99999385,  0.99999989,  0.99999989,  0.99999989,  0.99999989,\n",
       "         0.99999989,  0.99999989,  0.99999989,  0.99999989,  0.99999385],\n",
       "       [ 0.99999386,  0.99999989,  0.99999989,  0.99999989,  0.99999989,\n",
       "         0.99999989,  0.99999989,  0.99999989,  0.99999989,  0.99999386],\n",
       "       [ 0.99999386,  0.99999989,  0.99999989,  0.99999989,  0.99999989,\n",
       "         0.99999989,  0.99999989,  0.99999989,  0.99999989,  0.99999386],\n",
       "       [ 0.99999386,  0.99999989,  0.99999989,  0.99999989,  0.99999989,\n",
       "         0.99999989,  0.99999989,  0.99999989,  0.99999989,  0.99999386],\n",
       "       [ 0.99999386,  0.99999989,  0.99999989,  0.99999989,  0.99999989,\n",
       "         0.99999989,  0.99999989,  0.99999989,  0.99999989,  0.99999386],\n",
       "       [ 0.99999386,  0.99999989,  0.99999989,  0.99999989,  0.99999989,\n",
       "         0.99999989,  0.99999989,  0.99999989,  0.99999989,  0.99999386],\n",
       "       [ 0.99999386,  0.99999989,  0.99999989,  0.99999989,  0.99999989,\n",
       "         0.99999989,  0.99999989,  0.99999989,  0.99999989,  0.99999386],\n",
       "       [ 0.99999385,  0.99999989,  0.99999989,  0.99999989,  0.99999989,\n",
       "         0.99999989,  0.99999989,  0.99999989,  0.99999989,  0.99999385],\n",
       "       [ 0.99966463,  0.99999385,  0.99999386,  0.99999386,  0.99999386,\n",
       "         0.99999386,  0.99999386,  0.99999386,  0.99999385,  0.99966463]])"
      ]
     },
     "execution_count": 8,
     "metadata": {},
     "output_type": "execute_result"
    }
   ],
   "source": [
    "mean_field = mean_field_coordinate_ascend(4,1000,10)[1:11,1:11]\n",
    "mean_field"
   ]
  },
  {
   "cell_type": "code",
   "execution_count": 10,
   "metadata": {},
   "outputs": [
    {
     "data": {
      "text/plain": [
       "array([[  1.12470778e-07,   3.35254161e-04],\n",
       "       [  3.35254161e-04,   9.99329379e-01]])"
      ]
     },
     "execution_count": 10,
     "metadata": {},
     "output_type": "execute_result"
    }
   ],
   "source": [
    "get_prob(mean_field)"
   ]
  },
  {
   "cell_type": "code",
   "execution_count": null,
   "metadata": {},
   "outputs": [],
   "source": []
  }
 ],
 "metadata": {
  "kernelspec": {
   "display_name": "Python 3",
   "language": "python",
   "name": "python3"
  },
  "language_info": {
   "codemirror_mode": {
    "name": "ipython",
    "version": 3
   },
   "file_extension": ".py",
   "mimetype": "text/x-python",
   "name": "python",
   "nbconvert_exporter": "python",
   "pygments_lexer": "ipython3",
   "version": "3.5.1"
  }
 },
 "nbformat": 4,
 "nbformat_minor": 2
}
