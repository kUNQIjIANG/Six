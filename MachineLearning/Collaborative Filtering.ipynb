{
 "cells": [
  {
   "cell_type": "markdown",
   "metadata": {},
   "source": [
    "## Memory Based Collaborative Filtering\n",
    "Author: Kunqi Jiang  \n",
    "2019.3.5  \n",
    "@MIT LICENSE"
   ]
  },
  {
   "cell_type": "code",
   "execution_count": 1,
   "metadata": {},
   "outputs": [
    {
     "name": "stdout",
     "output_type": "stream",
     "text": [
      "[[  5.   5.  nan   0.   0.]\n",
      " [  5.  nan   4.   0.   0.]\n",
      " [  0.  nan   0.   5.   5.]\n",
      " [  0.   0.  nan   4.  nan]]\n"
     ]
    }
   ],
   "source": [
    "import numpy as np\n",
    "user_item_data = np.array([[5,5,np.nan,0,0],[5,np.nan,4,0,0],[0,np.nan,0,5,5],[0,0,np.nan,4,np.nan]])\n",
    "print(user_item_data)"
   ]
  },
  {
   "cell_type": "code",
   "execution_count": 25,
   "metadata": {},
   "outputs": [],
   "source": [
    "# calculating mean square error\n",
    "def evaluate(test_data):\n",
    "    nan_index = np.isnan(test_data)\n",
    "    test_data[nan_index] = 0\n",
    "    return np.sum(test_data*test_data)\n",
    "\n",
    "ita = 0.01\n",
    "lambd = 0.1\n",
    "iteration = 5000\n",
    "user_num = user_item_data.shape[0]\n",
    "item_num = user_item_data.shape[1]\n",
    "feat_num = 2\n",
    "# random initialize\n",
    "users = np.random.rand(user_num,feat_num)\n",
    "items = np.random.rand(item_num,feat_num)"
   ]
  },
  {
   "cell_type": "markdown",
   "metadata": {},
   "source": [
    "### Collaborative batch training"
   ]
  },
  {
   "cell_type": "code",
   "execution_count": 14,
   "metadata": {},
   "outputs": [
    {
     "name": "stdout",
     "output_type": "stream",
     "text": [
      "mean square error 140.008677638\n",
      "mean square error 136.629274591\n",
      "mean square error 133.109864297\n",
      "mean square error 129.450864982\n",
      "mean square error 125.662791526\n",
      "mean square error 121.765908445\n",
      "mean square error 117.789239543\n",
      "mean square error 113.768817106\n",
      "mean square error 109.745170207\n",
      "mean square error 105.760196845\n",
      "mean square error 101.853709793\n",
      "mean square error 98.0600532205\n",
      "mean square error 94.405221399\n",
      "mean square error 90.9048537529\n",
      "mean square error 87.5633412523\n",
      "mean square error 84.3740926431\n",
      "mean square error 81.3208251423\n",
      "mean square error 78.3796089189\n",
      "mean square error 75.5213343734\n",
      "mean square error 72.7142863483\n",
      "mean square error 69.9265789306\n",
      "mean square error 67.1282973643\n",
      "mean square error 64.2932807169\n",
      "mean square error 61.4005411154\n",
      "mean square error 58.4353455103\n",
      "mean square error 55.3899871436\n",
      "mean square error 52.2642556623\n",
      "mean square error 49.0655892812\n",
      "mean square error 45.8088715507\n",
      "mean square error 42.5158290196\n",
      "mean square error 39.2140006081\n",
      "mean square error 35.9352860366\n",
      "mean square error 32.7141344348\n",
      "mean square error 29.5854947264\n",
      "mean square error 26.5827019251\n",
      "mean square error 23.7355030893\n",
      "mean square error 21.0684225108\n",
      "mean square error 18.5996251607\n",
      "mean square error 16.3403676756\n",
      "mean square error 14.2950424911\n",
      "mean square error 12.4617416803\n",
      "mean square error 10.8332087563\n",
      "mean square error 9.39801830833\n",
      "mean square error 8.14182543274\n",
      "mean square error 7.04855288534\n",
      "mean square error 6.10142327638\n",
      "mean square error 5.28378587501\n",
      "mean square error 4.57972459375\n",
      "mean square error 3.97446102951\n",
      "mean square error 3.45458297436\n",
      "mean square error 3.00813587455\n",
      "mean square error 2.62461478814\n",
      "mean square error 2.29489014734\n",
      "mean square error 2.01109435156\n",
      "mean square error 1.76648953758\n",
      "mean square error 1.55533078557\n",
      "mean square error 1.372733996\n",
      "mean square error 1.2145538301\n",
      "mean square error 1.07727435561\n",
      "mean square error 0.957913193797\n",
      "mean square error 0.853938813567\n",
      "mean square error 0.763199970236\n",
      "mean square error 0.683865979741\n",
      "mean square error 0.614376431696\n",
      "mean square error 0.553398987633\n",
      "mean square error 0.499794023929\n",
      "mean square error 0.452585022728\n",
      "mean square error 0.410933764666\n",
      "mean square error 0.374119520583\n",
      "mean square error 0.341521568984\n",
      "mean square error 0.312604478968\n",
      "mean square error 0.28690569469\n",
      "mean square error 0.264025038203\n",
      "mean square error 0.243615814555\n",
      "mean square error 0.225377258282\n",
      "mean square error 0.209048105716\n",
      "mean square error 0.194401114637\n",
      "mean square error 0.181238383107\n",
      "mean square error 0.169387344179\n",
      "mean square error 0.158697333548\n",
      "mean square error 0.149036643926\n"
     ]
    }
   ],
   "source": [
    "pre_mse = float('inf')\n",
    "for j in range(iteration):\n",
    "    for i in range(user_num):\n",
    "        pred = items @ users[i]\n",
    "        truth = user_item_data[i]\n",
    "        nan_index = np.isnan(truth)\n",
    "        error = truth - pred\n",
    "        error[nan_index] = 0\n",
    "        g = error.reshape(-1,1) * items # boardcast product\n",
    "        gradient = np.sum(g,0) # batch update\n",
    "        regularizor = users[i]\n",
    "        users[i] += ita * (gradient - lambd * regularizor)\n",
    "    \n",
    "    for i in range(item_num):\n",
    "        pred = users @ items[i]\n",
    "        truth = user_item_data[0:,i]\n",
    "        nan_index = np.isnan(truth)\n",
    "        error = truth - pred\n",
    "        error[nan_index] = 0\n",
    "        g = error.reshape(-1,1) * users\n",
    "        gradient = np.sum(g,0)\n",
    "        regularizor = items[i]\n",
    "        items[i] += ita * (gradient - lambd * regularizor)\n",
    "    \n",
    "    pred = users @ items.T\n",
    "    diff = user_item_data - pred\n",
    "    mse = evaluate(diff)\n",
    "    print(\"mean square error\", mse)\n",
    "    if (pre_mse - mse < 10e-3):\n",
    "        break\n",
    "    pre_mse = mse"
   ]
  },
  {
   "cell_type": "code",
   "execution_count": 15,
   "metadata": {},
   "outputs": [
    {
     "data": {
      "text/plain": [
       "array([[ 0.136,  2.353],\n",
       "       [ 0.145,  2.35 ],\n",
       "       [ 2.399, -0.089],\n",
       "       [ 1.791, -0.084]])"
      ]
     },
     "execution_count": 15,
     "metadata": {},
     "output_type": "execute_result"
    }
   ],
   "source": [
    "# user embedding vectors\n",
    "np.round(users,3)"
   ]
  },
  {
   "cell_type": "code",
   "execution_count": 16,
   "metadata": {},
   "outputs": [
    {
     "data": {
      "text/plain": [
       "array([[ 0.068,  2.114],\n",
       "       [ 0.139,  2.065],\n",
       "       [ 0.098,  1.63 ],\n",
       "       [ 2.123, -0.128],\n",
       "       [ 1.991, -0.116]])"
      ]
     },
     "execution_count": 16,
     "metadata": {},
     "output_type": "execute_result"
    }
   ],
   "source": [
    "# item embedding vectors\n",
    "np.round(items,3)"
   ]
  },
  {
   "cell_type": "code",
   "execution_count": 17,
   "metadata": {},
   "outputs": [
    {
     "data": {
      "text/plain": [
       "array([[  5.,   5.,  nan,   0.,   0.],\n",
       "       [  5.,  nan,   4.,   0.,   0.],\n",
       "       [  0.,  nan,   0.,   5.,   5.],\n",
       "       [  0.,   0.,  nan,   4.,  nan]])"
      ]
     },
     "execution_count": 17,
     "metadata": {},
     "output_type": "execute_result"
    }
   ],
   "source": [
    "user_item_data "
   ]
  },
  {
   "cell_type": "code",
   "execution_count": 19,
   "metadata": {},
   "outputs": [
    {
     "data": {
      "text/plain": [
       "array([[ 4.98,  4.88,  3.85, -0.01, -0.  ],\n",
       "       [ 4.98,  4.87,  3.85,  0.01,  0.02],\n",
       "       [-0.03,  0.15,  0.09,  5.1 ,  4.79],\n",
       "       [-0.06,  0.08,  0.04,  3.81,  3.57]])"
      ]
     },
     "execution_count": 19,
     "metadata": {},
     "output_type": "execute_result"
    }
   ],
   "source": [
    "# predicted rating\n",
    "np.round(pred,2)"
   ]
  },
  {
   "cell_type": "markdown",
   "metadata": {},
   "source": [
    "### Collaborative online training"
   ]
  },
  {
   "cell_type": "code",
   "execution_count": 26,
   "metadata": {},
   "outputs": [
    {
     "name": "stdout",
     "output_type": "stream",
     "text": [
      "mse1 132.699472071\n",
      "mse2 131.785463186\n",
      "mse1 129.032914847\n",
      "mse2 128.065284179\n",
      "mse1 125.291311403\n",
      "mse2 124.282367332\n",
      "mse1 121.501303792\n",
      "mse2 120.467936602\n",
      "mse1 117.69815379\n",
      "mse2 116.660830845\n",
      "mse1 113.923514455\n",
      "mse2 112.904925461\n",
      "mse1 110.22254811\n",
      "mse2 109.245988909\n",
      "mse1 106.640603881\n",
      "mse2 105.728253164\n",
      "mse1 103.219789255\n",
      "mse2 102.391074122\n",
      "mse1 99.9958346626\n",
      "mse2 99.2660838828\n",
      "mse1 96.9956336935\n",
      "mse2 96.3751775981\n",
      "mse1 94.2357418023\n",
      "mse2 93.729543284\n",
      "mse1 91.7219561287\n",
      "mse2 91.329767477\n",
      "mse1 89.4499196982\n",
      "mse2 89.1668780921\n",
      "mse1 87.4065402982\n",
      "mse2 87.2240597566\n",
      "mse1 85.5719214382\n",
      "mse2 85.4787198673\n",
      "mse1 83.9214822824\n",
      "mse2 83.9045965627\n",
      "mse1 82.4279857897\n",
      "mse2 82.4736649447\n",
      "mse1 81.0632758012\n",
      "mse2 81.1576884868\n",
      "mse1 79.7996172466\n",
      "mse2 79.9293531789\n",
      "mse1 78.6106169606\n",
      "mse2 78.7629950444\n",
      "mse1 77.4717633047\n",
      "mse2 77.6349795952\n",
      "mse1 76.3606577439\n",
      "mse2 76.5238150895\n",
      "mse1 75.2570241817\n",
      "mse2 75.4100855137\n",
      "mse1 74.1425787582\n",
      "mse2 74.2762809641\n",
      "mse1 73.0008308019\n",
      "mse2 73.1065888551\n",
      "mse1 71.8168702097\n",
      "mse2 71.8866937215\n",
      "mse1 70.577181316\n",
      "mse2 70.6036189923\n",
      "mse1 69.2695101604\n",
      "mse2 69.2456321511\n",
      "mse1 67.8828015107\n",
      "mse2 67.8022252314\n",
      "mse1 66.4072137631\n",
      "mse2 66.2641751087\n",
      "mse1 64.8342132551\n",
      "mse2 64.6236817956\n",
      "mse1 63.1567437973\n",
      "mse2 62.8745771928\n",
      "mse1 61.3694617034\n",
      "mse2 61.0125909438\n",
      "mse1 59.4690208174\n",
      "mse2 59.0356539437\n",
      "mse1 57.4543858995\n",
      "mse2 56.9442137762\n",
      "mse1 55.3271465133\n",
      "mse2 54.7415304277\n",
      "mse1 53.0917979237\n",
      "mse2 52.4339159713\n",
      "mse1 50.7559515262\n",
      "mse2 50.0308797311\n",
      "mse1 48.3304362535\n",
      "mse2 47.5451420276\n",
      "mse1 45.8292555335\n",
      "mse2 44.9924860452\n",
      "mse1 43.2693726399\n",
      "mse2 42.3914291365\n",
      "mse1 40.6703109101\n",
      "mse2 39.7627115222\n",
      "mse1 38.0535734653\n",
      "mse2 37.1286202347\n",
      "mse1 35.4419077523\n",
      "mse2 34.512186575\n",
      "mse1 32.8584603826\n",
      "mse2 31.9363129027\n",
      "mse1 30.3258838506\n",
      "mse2 29.4228958981\n",
      "mse1 27.8654655252\n",
      "mse2 26.9920160484\n",
      "mse1 25.496348758\n",
      "mse2 24.6612561633\n",
      "mse1 23.2349057568\n",
      "mse2 22.4451963026\n",
      "mse1 21.0943037391\n",
      "mse2 20.3551114182\n",
      "mse1 19.0842831149\n",
      "mse2 18.3988751063\n",
      "mse1 17.2111431049\n",
      "mse2 16.5810520134\n",
      "mse1 15.4779101106\n",
      "mse2 14.903145678\n",
      "mse1 13.8846500328\n",
      "mse2 13.3639595041\n",
      "mse1 12.428878765\n",
      "mse2 11.9600262528\n",
      "mse1 11.1060249111\n",
      "mse2 10.6860647389\n",
      "mse1 9.90990392191\n",
      "mse2 9.53542950502\n",
      "mse1 8.83317127505\n",
      "mse2 8.50052815154\n",
      "mse1 7.86773203065\n",
      "mse2 7.57319002897\n",
      "mse1 7.00509343966\n",
      "mse2 6.74497800526\n",
      "mse1 6.2366552117\n",
      "mse2 6.00744136146\n",
      "mse1 5.55393806619\n",
      "mse2 5.35231239148\n",
      "mse1 4.94875524606\n",
      "mse2 4.77165212442\n",
      "mse1 4.41333400493\n",
      "mse2 4.25795205907\n",
      "mse1 3.94039505866\n",
      "mse2 3.80419925842\n",
      "mse1 3.52319801814\n",
      "mse2 3.40391192911\n",
      "mse1 3.15556024525\n",
      "mse2 3.05115198233\n",
      "mse1 2.83185567678\n",
      "mse2 2.74052024245\n",
      "mse1 2.54699914097\n",
      "mse2 2.46713907741\n",
      "mse1 2.29642067792\n",
      "mse2 2.22662635912\n",
      "mse1 2.07603344328\n",
      "mse2 2.01506387238\n",
      "mse1 1.88219796071\n",
      "mse2 1.8289625998\n",
      "mse1 1.71168480335\n",
      "mse2 1.6652267249\n",
      "mse1 1.56163722461\n",
      "mse2 1.52111771178\n",
      "mse1 1.42953481054\n",
      "mse2 1.39421942858\n",
      "mse1 1.3131588764\n",
      "mse2 1.28240497171\n",
      "mse1 1.21056006098\n",
      "mse2 1.18380560675\n",
      "mse1 1.12002837047\n",
      "mse2 1.09678205826\n",
      "mse1 1.040065775\n",
      "mse2 1.01989824376\n",
      "mse1 0.969361354329\n",
      "mse2 0.951897448157\n",
      "mse1 0.906768915766\n",
      "mse2 0.891680865389\n",
      "mse1 0.851286958284\n",
      "mse2 0.838288387706\n",
      "mse1 0.802040827247\n",
      "mse2 0.790881494477\n",
      "mse1 0.758266888154\n",
      "mse2 0.748728076807\n",
      "mse1 0.719298542143\n",
      "mse2 0.711189028523\n",
      "mse1 0.684553907337\n",
      "mse2 0.677706435178\n",
      "mse1 0.653524996449\n",
      "mse2 0.647793198516\n",
      "mse1 0.625768230421\n",
      "mse2 0.621023942745\n",
      "mse1 0.600896139175\n",
      "mse2 0.597027059693\n",
      "mse1 0.578570112745\n",
      "mse2 0.575477761574\n",
      "mse1 0.558494078483\n",
      "mse2 0.556092022009\n",
      "mse1 0.540408992298\n",
      "mse2 0.538621297699\n",
      "mse1 0.524088043564\n",
      "mse2 0.522847934391\n",
      "mse1 0.50933248435\n",
      "mse2 0.508581171353\n"
     ]
    }
   ],
   "source": [
    "user_non = [[0,1,3,4],[0,2,3,4],[0,2,3,4],[0,1,3]]\n",
    "item_non = [[0,1,2,3],[0,3],[1,2],[0,1,2,3],[0,1,2]]\n",
    "\n",
    "for n in range(iteration):\n",
    "    mse_1 = 0\n",
    "    for i in range(user_num):\n",
    "        #g = np.zeros_like(users[i])\n",
    "        for j in user_non[i]:\n",
    "            pred = users[i] @ items[j]\n",
    "            error = user_item_data[i][j] - pred\n",
    "            mse_1 += error*error\n",
    "            g = error * items[j]\n",
    "            # L2 regularize\n",
    "            users[i] += ita * ( g - lambd * users[i])\n",
    "    print(\"mse1\",mse_1)\n",
    "    \n",
    "    mse_2 = 0\n",
    "    for i in range(item_num):\n",
    "        #g = np.zeros_like(items[i])\n",
    "        for j in item_non[i]:\n",
    "            pred = items[i] @ users[j]\n",
    "            error = user_item_data[j][i] - pred\n",
    "            mse_2 += error*error\n",
    "            g = error * users[j]\n",
    "            items[i] += ita * ( g - lambd * items[i])\n",
    "    print(\"mse2\",mse_2)\n",
    "    \n",
    "    if(abs(mse_1 - mse_2) < 10e-4):\n",
    "        break"
   ]
  },
  {
   "cell_type": "code",
   "execution_count": 27,
   "metadata": {},
   "outputs": [
    {
     "data": {
      "text/plain": [
       "array([[ 0.28 ,  2.286],\n",
       "       [ 0.304,  2.273],\n",
       "       [ 2.348, -0.268],\n",
       "       [ 1.728, -0.209]])"
      ]
     },
     "execution_count": 27,
     "metadata": {},
     "output_type": "execute_result"
    }
   ],
   "source": [
    "np.round(users,3)"
   ]
  },
  {
   "cell_type": "code",
   "execution_count": 28,
   "metadata": {},
   "outputs": [
    {
     "data": {
      "text/plain": [
       "array([[ 0.228,  2.086],\n",
       "       [ 0.28 ,  2.047],\n",
       "       [ 0.218,  1.597],\n",
       "       [ 2.077, -0.266],\n",
       "       [ 1.951, -0.247]])"
      ]
     },
     "execution_count": 28,
     "metadata": {},
     "output_type": "execute_result"
    }
   ],
   "source": [
    "np.round(items,3)"
   ]
  },
  {
   "cell_type": "code",
   "execution_count": 29,
   "metadata": {},
   "outputs": [
    {
     "data": {
      "text/plain": [
       "array([[ 4.83,  4.76,  3.71, -0.03, -0.02],\n",
       "       [ 4.81,  4.74,  3.7 ,  0.03,  0.03],\n",
       "       [-0.02,  0.11,  0.08,  4.95,  4.65],\n",
       "       [-0.04,  0.06,  0.04,  3.64,  3.42]])"
      ]
     },
     "execution_count": 29,
     "metadata": {},
     "output_type": "execute_result"
    }
   ],
   "source": [
    "pred = users @ items.T\n",
    "np.round(pred,2)"
   ]
  }
 ],
 "metadata": {
  "kernelspec": {
   "display_name": "Python 3",
   "language": "python",
   "name": "python3"
  },
  "language_info": {
   "codemirror_mode": {
    "name": "ipython",
    "version": 3
   },
   "file_extension": ".py",
   "mimetype": "text/x-python",
   "name": "python",
   "nbconvert_exporter": "python",
   "pygments_lexer": "ipython3",
   "version": "3.5.1"
  }
 },
 "nbformat": 4,
 "nbformat_minor": 2
}
